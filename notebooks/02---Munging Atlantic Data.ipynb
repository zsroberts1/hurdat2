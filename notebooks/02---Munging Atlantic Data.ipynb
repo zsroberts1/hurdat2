{
  "cells": [
    {
      "cell_type": "markdown",
      "metadata": {
        "id": "--T7FxlY-To3"
      },
      "source": [
        "# `HURDAT2` Data Munge\n",
        "\n",
        "**NOTE**: This notebook is a mirror copy of notebook `01`, with one important difference: it runs through Atlantic data instead of Pacific data. This means that variables named `pacific` there are renamed `atlantic` here, and the origin and destination URLs are different. But otherwise everything is exactly the same.\n",
        "\n",
        "This isn't the most elegant way of doing this, but it's the fastest way of doing this, within the time allotted.\n",
        "\n",
        "## Introduction\n",
        "\n",
        "This notebook acquires, cleans up, and saves a copy of the United States National Oceanic and Atmospheric Administration's (NOAA) HURDAT2 dataset.\n",
        "\n",
        "HURDAT2 is the NOAA's current data export of historical hurricane tracking data. It's split into two files, one for the Atlantic Ocean and one for the Pacific. These two files have different start dates (1851 and 1949 respectively).\n",
        "\n",
        "## Original Text\n",
        "\n",
        "From its [description](http://www.nhc.noaa.gov/data/#hurdat) on the NOAA's data web page:\n",
        "\n",
        "---\n",
        "\n",
        "<p class=\"hdr\">Best Track Data (HURDAT2)\n",
        "\n",
        "</p>\n",
        "<p class=\"reg\"><span style=\"font-weight:bold;\">Atlantic hurricane database (HURDAT2) 1851-2015</span> (<a href=\"/data/hurdat/hurdat2-1851-2015-070616.txt\">5.9MB download</a>)\n",
        "<br>\n",
        "This dataset was provided on 6 July 2016 to include the 1956 to 1960 revisions to the best tracks.\n",
        "</p>\n",
        "<p class=\"reg\">\n",
        "This dataset (<a href=\"/data/hurdat/hurdat2-format-atlantic.pdf\">known as Atlantic HURDAT2</a>) has\n",
        "a comma-delimited, text format with six-hourly information on the location,\n",
        "maximum winds, central pressure, and (beginning in 2004) size of all known tropical cyclones and subtropical cyclones.\n",
        "The original HURDAT database has been retired.</p>\n",
        "<p class=\"reg\">\n",
        "Detailed information regarding the <a href=\"http://www.aoml.noaa.gov/hrd/data_sub/re_anal.html\">\n",
        "Atlantic Hurricane Database Re-analysis Project</a> is available from the\n",
        "<a href=\"http://www.aoml.noaa.gov/hrd/\">Hurricane Research Division</a>.\n",
        "</p>\n",
        "<p class=\"reg\"><span style=\"font-weight:bold;\">Northeast and North Central Pacific hurricane database (HURDAT2)\n",
        "1949-2015</span> &nbsp; (<a href=\"/data/hurdat/hurdat2-nepac-1949-2015-050916.txt\">3.2MB download</a>)\n",
        "<br>\n",
        "This dataset was provided on 9 May 2016 to include the remaining 2014 best tracks for Genevieve, Iselle, and Julio in the Central Pacific Hurricane Center (CPHC) area\n",
        "of responsibility.  Note that the 2015 best tracks from CPHC are not yet available and are not currently included.  Once CPHC\n",
        "completes their post-storm analyses, this dataset will be updated.\n",
        "</p>\n",
        "<p class=\"reg\">\n",
        "This dataset (<a href=\"/data/hurdat/hurdat2-format-nencpac.pdf\">known as NE/NC Pacific HURDAT2</a>)\n",
        "has a comma-delimited, text format with six-hourly information on the\n",
        "location, maximum winds, central pressure, and (beginning in 2004)\n",
        "size of all known tropical cyclones and subtropical cyclones. The\n",
        "original HURDAT database has been retired.\n",
        "</p>\n",
        "<p class=\"reg\">\n",
        "<b>UPDATE as of 4/16/2025: This code has been edited slightly to accomodate the most recent data through 2023, which includes a newer Radius of Maximum Winds column. This was done before the 2024 hurricane season data was added, but there are no new columns, so it's probably fine.</b>\n",
        "</p>\n",
        "\n",
        "---"
      ]
    },
    {
      "cell_type": "markdown",
      "metadata": {
        "id": "_LaHvcm0-To4"
      },
      "source": [
        "## Data Dictionary\n",
        "\n",
        "The dataset's [data dictionary](http://www.nhc.noaa.gov/data/hurdat/hurdat2-format-atlantic.pdf) shows that the files follow a modified CSV format, with individual hurricanes and storms getting their own subheadings:"
      ]
    },
    {
      "cell_type": "code",
      "execution_count": null,
      "metadata": {
        "id": "qFGp-62h-To5",
        "outputId": "cc33e839-533d-470b-c68e-e38129ee6307"
      },
      "outputs": [
        {
          "data": {
            "text/html": [
              "\n",
              "        <iframe\n",
              "            width=\"900\"\n",
              "            height=\"600\"\n",
              "            src=\"http://www.nhc.noaa.gov/data/hurdat/hurdat2-format-atlantic.pdf\"\n",
              "            frameborder=\"0\"\n",
              "            allowfullscreen\n",
              "        ></iframe>\n",
              "        "
            ],
            "text/plain": [
              "<IPython.lib.display.IFrame at 0x42d79e8>"
            ]
          },
          "execution_count": 1,
          "metadata": {},
          "output_type": "execute_result"
        }
      ],
      "source": [
        "from IPython.display import IFrame\n",
        "IFrame(\"http://www.nhc.noaa.gov/data/hurdat/hurdat2-format-atlantic.pdf\", width=900, height=600)"
      ]
    },
    {
      "cell_type": "markdown",
      "metadata": {
        "id": "4dn27KJo-To5"
      },
      "source": [
        "## Initial Read\n",
        "\n",
        "Because of the non-standard format, a naive `pandas.read_csv` won't get useable data. It will be confused about the storm subheadings, for example, the first row in the following block:\n",
        "\n",
        "```\n",
        "EP202015,           PATRICIA,     19,\n",
        "20151020, 0600,  , TD, 13.4N,  94.0W,  25, 1007,    0,    0,    0,    0,    0,    0,    0,    0,    0,    0,    0,    0,\n",
        "20151020, 1200,  , TD, 13.3N,  94.2W,  30, 1006,    0,    0,    0,    0,    0,    0,    0,    0,    0,    0,    0,    0,\n",
        "20151020, 1800,  , TD, 13.2N,  94.6W,  30, 1006,    0,    0,    0,    0,    0,    0,    0,    0,    0,    0,    0,    0,\n",
        "...\n",
        "```\n",
        "\n",
        "Curiously, the file doesn't seem to quite follow the format specified in the data dictionary, either, as it doesn't have any of the homogenized data lines mentioned in the data dictionary. So for instance, the following (used as an example in the data dictionary) never actually shows up:\n",
        "\n",
        "```\n",
        "AL092011, IRENE, 39,\n",
        "1234567890123456789012345768901234567\n",
        "```\n",
        "\n",
        "It looks just like the example line above instead.\n",
        "\n",
        "Since the start of each subheader line is `AL` or `EP` or something, whilst the start of a line of data is a date starting with the year (`2` or `1`), we can remove the subheadings by telling `pandas.read_csv` to ignore lines starting with the characters `A` or `E` (via `comment=\"E\"`. But then we lose the position of those lines!\n",
        "\n",
        "It's easiest to just build our own parser."
      ]
    },
    {
      "cell_type": "code",
      "execution_count": null,
      "metadata": {
        "id": "XgsZuxZK-To5"
      },
      "outputs": [],
      "source": [
        "import requests\n",
        "atlantic_raw = requests.get(\"http://www.nhc.noaa.gov/data/hurdat/hurdat2-1851-2015-070616.txt\")\n",
        "atlantic_raw.raise_for_status()  # check that we actually got something back"
      ]
    },
    {
      "cell_type": "markdown",
      "metadata": {
        "id": "LQeqMBym-To6"
      },
      "source": [
        "Double-checking the sentinels:"
      ]
    },
    {
      "cell_type": "code",
      "execution_count": null,
      "metadata": {
        "id": "F21ZGoLc-To6"
      },
      "outputs": [],
      "source": [
        "import io\n",
        "from collections import Counter\n",
        "\n",
        "c = Counter()\n",
        "for line in io.StringIO(atlantic_raw.text).readlines():\n",
        "    c[line[:2]] += 1"
      ]
    },
    {
      "cell_type": "code",
      "execution_count": null,
      "metadata": {
        "id": "JU-edKJf-To6",
        "outputId": "7e7f531d-3e8a-4915-c18f-1c45c3ed3670"
      },
      "outputs": [
        {
          "data": {
            "text/plain": [
              "Counter({'18': 9228, '19': 31926, '20': 7951, 'AL': 1814})"
            ]
          },
          "execution_count": 4,
          "metadata": {},
          "output_type": "execute_result"
        }
      ],
      "source": [
        "c"
      ]
    },
    {
      "cell_type": "code",
      "execution_count": null,
      "metadata": {
        "id": "jTWAuKUd-To6"
      },
      "outputs": [],
      "source": [
        "import io\n",
        "\n",
        "atlantic_storms_r = []\n",
        "atlantic_storm_r = {'header': None, 'data': []}\n",
        "\n",
        "for i, line in enumerate(io.StringIO(atlantic_raw.text).readlines()):\n",
        "    if line[:2] == 'AL':\n",
        "        atlantic_storms_r.append(atlantic_storm_r.copy())\n",
        "        atlantic_storm_r['header'] = line\n",
        "        atlantic_storm_r['data'] = []\n",
        "    else:\n",
        "        atlantic_storm_r['data'].append(line)\n",
        "\n",
        "atlantic_storms_r = atlantic_storms_r[1:]"
      ]
    },
    {
      "cell_type": "code",
      "execution_count": null,
      "metadata": {
        "id": "fjeTlnTq-To6",
        "outputId": "f813f548-3232-42c3-b90f-1b8ffcbafaed"
      },
      "outputs": [
        {
          "data": {
            "text/plain": [
              "1813"
            ]
          },
          "execution_count": 6,
          "metadata": {},
          "output_type": "execute_result"
        }
      ],
      "source": [
        "len(atlantic_storms_r)"
      ]
    },
    {
      "cell_type": "code",
      "execution_count": null,
      "metadata": {
        "id": "If-JdZAl-To6",
        "outputId": "a71ddeb4-fafc-4a5b-9ac3-390d14f7dd04"
      },
      "outputs": [
        {
          "data": {
            "text/plain": [
              "{'data': ['18510625, 0000,  , HU, 28.0N,  94.8W,  80, -999, -999, -999, -999, -999, -999, -999, -999, -999, -999, -999, -999, -999,\\n',\n",
              "  '18510625, 0600,  , HU, 28.0N,  95.4W,  80, -999, -999, -999, -999, -999, -999, -999, -999, -999, -999, -999, -999, -999,\\n',\n",
              "  '18510625, 1200,  , HU, 28.0N,  96.0W,  80, -999, -999, -999, -999, -999, -999, -999, -999, -999, -999, -999, -999, -999,\\n',\n",
              "  '18510625, 1800,  , HU, 28.1N,  96.5W,  80, -999, -999, -999, -999, -999, -999, -999, -999, -999, -999, -999, -999, -999,\\n',\n",
              "  '18510625, 2100, L, HU, 28.2N,  96.8W,  80, -999, -999, -999, -999, -999, -999, -999, -999, -999, -999, -999, -999, -999,\\n',\n",
              "  '18510626, 0000,  , HU, 28.2N,  97.0W,  70, -999, -999, -999, -999, -999, -999, -999, -999, -999, -999, -999, -999, -999,\\n',\n",
              "  '18510626, 0600,  , TS, 28.3N,  97.6W,  60, -999, -999, -999, -999, -999, -999, -999, -999, -999, -999, -999, -999, -999,\\n',\n",
              "  '18510626, 1200,  , TS, 28.4N,  98.3W,  60, -999, -999, -999, -999, -999, -999, -999, -999, -999, -999, -999, -999, -999,\\n',\n",
              "  '18510626, 1800,  , TS, 28.6N,  98.9W,  50, -999, -999, -999, -999, -999, -999, -999, -999, -999, -999, -999, -999, -999,\\n',\n",
              "  '18510627, 0000,  , TS, 29.0N,  99.4W,  50, -999, -999, -999, -999, -999, -999, -999, -999, -999, -999, -999, -999, -999,\\n',\n",
              "  '18510627, 0600,  , TS, 29.5N,  99.8W,  40, -999, -999, -999, -999, -999, -999, -999, -999, -999, -999, -999, -999, -999,\\n',\n",
              "  '18510627, 1200,  , TS, 30.0N, 100.0W,  40, -999, -999, -999, -999, -999, -999, -999, -999, -999, -999, -999, -999, -999,\\n',\n",
              "  '18510627, 1800,  , TS, 30.5N, 100.1W,  40, -999, -999, -999, -999, -999, -999, -999, -999, -999, -999, -999, -999, -999,\\n',\n",
              "  '18510628, 0000,  , TS, 31.0N, 100.2W,  40, -999, -999, -999, -999, -999, -999, -999, -999, -999, -999, -999, -999, -999,\\n'],\n",
              " 'header': 'AL011851,            UNNAMED,     14,\\n'}"
            ]
          },
          "execution_count": 7,
          "metadata": {},
          "output_type": "execute_result"
        }
      ],
      "source": [
        "atlantic_storms_r[0]"
      ]
    },
    {
      "cell_type": "code",
      "execution_count": null,
      "metadata": {
        "scrolled": true,
        "id": "5cyafI7F-To6",
        "outputId": "0eefbb7f-fc20-45dc-f29f-f5f163a3a044"
      },
      "outputs": [
        {
          "data": {
            "text/plain": [
              "['18510625, 0000,  , HU, 28.0N,  94.8W,  80, -999, -999, -999, -999, -999, -999, -999, -999, -999, -999, -999, -999, -999,\\n',\n",
              " '18510625, 0600,  , HU, 28.0N,  95.4W,  80, -999, -999, -999, -999, -999, -999, -999, -999, -999, -999, -999, -999, -999,\\n',\n",
              " '18510625, 1200,  , HU, 28.0N,  96.0W,  80, -999, -999, -999, -999, -999, -999, -999, -999, -999, -999, -999, -999, -999,\\n',\n",
              " '18510625, 1800,  , HU, 28.1N,  96.5W,  80, -999, -999, -999, -999, -999, -999, -999, -999, -999, -999, -999, -999, -999,\\n',\n",
              " '18510625, 2100, L, HU, 28.2N,  96.8W,  80, -999, -999, -999, -999, -999, -999, -999, -999, -999, -999, -999, -999, -999,\\n',\n",
              " '18510626, 0000,  , HU, 28.2N,  97.0W,  70, -999, -999, -999, -999, -999, -999, -999, -999, -999, -999, -999, -999, -999,\\n',\n",
              " '18510626, 0600,  , TS, 28.3N,  97.6W,  60, -999, -999, -999, -999, -999, -999, -999, -999, -999, -999, -999, -999, -999,\\n',\n",
              " '18510626, 1200,  , TS, 28.4N,  98.3W,  60, -999, -999, -999, -999, -999, -999, -999, -999, -999, -999, -999, -999, -999,\\n',\n",
              " '18510626, 1800,  , TS, 28.6N,  98.9W,  50, -999, -999, -999, -999, -999, -999, -999, -999, -999, -999, -999, -999, -999,\\n',\n",
              " '18510627, 0000,  , TS, 29.0N,  99.4W,  50, -999, -999, -999, -999, -999, -999, -999, -999, -999, -999, -999, -999, -999,\\n',\n",
              " '18510627, 0600,  , TS, 29.5N,  99.8W,  40, -999, -999, -999, -999, -999, -999, -999, -999, -999, -999, -999, -999, -999,\\n',\n",
              " '18510627, 1200,  , TS, 30.0N, 100.0W,  40, -999, -999, -999, -999, -999, -999, -999, -999, -999, -999, -999, -999, -999,\\n',\n",
              " '18510627, 1800,  , TS, 30.5N, 100.1W,  40, -999, -999, -999, -999, -999, -999, -999, -999, -999, -999, -999, -999, -999,\\n',\n",
              " '18510628, 0000,  , TS, 31.0N, 100.2W,  40, -999, -999, -999, -999, -999, -999, -999, -999, -999, -999, -999, -999, -999,\\n']"
            ]
          },
          "execution_count": 8,
          "metadata": {},
          "output_type": "execute_result"
        }
      ],
      "source": [
        "atlantic_storms_r[0]['data']"
      ]
    },
    {
      "cell_type": "code",
      "execution_count": null,
      "metadata": {
        "id": "FevmLTBJ-To6"
      },
      "outputs": [],
      "source": [
        "import pandas as pd\n",
        "\n",
        "atlantic_storm_dfs = []\n",
        "for storm_dict in atlantic_storms_r:\n",
        "    storm_id, storm_name, storm_entries_n = storm_dict['header'].split(\",\")[:3]\n",
        "    # remove hanging newline ('\\n'), split fields\n",
        "    data = [[entry.strip() for entry in datum[:-1].split(\",\")] for datum in storm_dict['data']]\n",
        "    frame = pd.DataFrame(data)\n",
        "    frame['id'] = storm_id\n",
        "    frame['name'] = storm_name\n",
        "    atlantic_storm_dfs.append(frame)"
      ]
    },
    {
      "cell_type": "code",
      "execution_count": null,
      "metadata": {
        "id": "rKMNJSv--To6",
        "outputId": "b2634a90-7a8a-4b1e-da9a-691474a1e62d"
      },
      "outputs": [
        {
          "data": {
            "text/plain": [
              "1813"
            ]
          },
          "execution_count": 10,
          "metadata": {},
          "output_type": "execute_result"
        }
      ],
      "source": [
        "len(atlantic_storm_dfs)"
      ]
    },
    {
      "cell_type": "code",
      "execution_count": null,
      "metadata": {
        "id": "0YM_VJg5-To6",
        "outputId": "2c69720d-f5d8-4dff-9d0f-d46495dee7da"
      },
      "outputs": [
        {
          "data": {
            "text/html": [
              "<div>\n",
              "<table border=\"1\" class=\"dataframe\">\n",
              "  <thead>\n",
              "    <tr style=\"text-align: right;\">\n",
              "      <th></th>\n",
              "      <th>0</th>\n",
              "      <th>1</th>\n",
              "      <th>2</th>\n",
              "      <th>3</th>\n",
              "      <th>4</th>\n",
              "      <th>5</th>\n",
              "      <th>6</th>\n",
              "      <th>7</th>\n",
              "      <th>8</th>\n",
              "      <th>9</th>\n",
              "      <th>...</th>\n",
              "      <th>13</th>\n",
              "      <th>14</th>\n",
              "      <th>15</th>\n",
              "      <th>16</th>\n",
              "      <th>17</th>\n",
              "      <th>18</th>\n",
              "      <th>19</th>\n",
              "      <th>20</th>\n",
              "      <th>id</th>\n",
              "      <th>name</th>\n",
              "    </tr>\n",
              "  </thead>\n",
              "  <tbody>\n",
              "    <tr>\n",
              "      <th>0</th>\n",
              "      <td>18510625</td>\n",
              "      <td>0000</td>\n",
              "      <td></td>\n",
              "      <td>HU</td>\n",
              "      <td>28.0N</td>\n",
              "      <td>94.8W</td>\n",
              "      <td>80</td>\n",
              "      <td>-999</td>\n",
              "      <td>-999</td>\n",
              "      <td>-999</td>\n",
              "      <td>...</td>\n",
              "      <td>-999</td>\n",
              "      <td>-999</td>\n",
              "      <td>-999</td>\n",
              "      <td>-999</td>\n",
              "      <td>-999</td>\n",
              "      <td>-999</td>\n",
              "      <td>-999</td>\n",
              "      <td></td>\n",
              "      <td>AL011851</td>\n",
              "      <td>UNNAMED</td>\n",
              "    </tr>\n",
              "    <tr>\n",
              "      <th>1</th>\n",
              "      <td>18510625</td>\n",
              "      <td>0600</td>\n",
              "      <td></td>\n",
              "      <td>HU</td>\n",
              "      <td>28.0N</td>\n",
              "      <td>95.4W</td>\n",
              "      <td>80</td>\n",
              "      <td>-999</td>\n",
              "      <td>-999</td>\n",
              "      <td>-999</td>\n",
              "      <td>...</td>\n",
              "      <td>-999</td>\n",
              "      <td>-999</td>\n",
              "      <td>-999</td>\n",
              "      <td>-999</td>\n",
              "      <td>-999</td>\n",
              "      <td>-999</td>\n",
              "      <td>-999</td>\n",
              "      <td></td>\n",
              "      <td>AL011851</td>\n",
              "      <td>UNNAMED</td>\n",
              "    </tr>\n",
              "    <tr>\n",
              "      <th>2</th>\n",
              "      <td>18510625</td>\n",
              "      <td>1200</td>\n",
              "      <td></td>\n",
              "      <td>HU</td>\n",
              "      <td>28.0N</td>\n",
              "      <td>96.0W</td>\n",
              "      <td>80</td>\n",
              "      <td>-999</td>\n",
              "      <td>-999</td>\n",
              "      <td>-999</td>\n",
              "      <td>...</td>\n",
              "      <td>-999</td>\n",
              "      <td>-999</td>\n",
              "      <td>-999</td>\n",
              "      <td>-999</td>\n",
              "      <td>-999</td>\n",
              "      <td>-999</td>\n",
              "      <td>-999</td>\n",
              "      <td></td>\n",
              "      <td>AL011851</td>\n",
              "      <td>UNNAMED</td>\n",
              "    </tr>\n",
              "    <tr>\n",
              "      <th>3</th>\n",
              "      <td>18510625</td>\n",
              "      <td>1800</td>\n",
              "      <td></td>\n",
              "      <td>HU</td>\n",
              "      <td>28.1N</td>\n",
              "      <td>96.5W</td>\n",
              "      <td>80</td>\n",
              "      <td>-999</td>\n",
              "      <td>-999</td>\n",
              "      <td>-999</td>\n",
              "      <td>...</td>\n",
              "      <td>-999</td>\n",
              "      <td>-999</td>\n",
              "      <td>-999</td>\n",
              "      <td>-999</td>\n",
              "      <td>-999</td>\n",
              "      <td>-999</td>\n",
              "      <td>-999</td>\n",
              "      <td></td>\n",
              "      <td>AL011851</td>\n",
              "      <td>UNNAMED</td>\n",
              "    </tr>\n",
              "    <tr>\n",
              "      <th>4</th>\n",
              "      <td>18510625</td>\n",
              "      <td>2100</td>\n",
              "      <td>L</td>\n",
              "      <td>HU</td>\n",
              "      <td>28.2N</td>\n",
              "      <td>96.8W</td>\n",
              "      <td>80</td>\n",
              "      <td>-999</td>\n",
              "      <td>-999</td>\n",
              "      <td>-999</td>\n",
              "      <td>...</td>\n",
              "      <td>-999</td>\n",
              "      <td>-999</td>\n",
              "      <td>-999</td>\n",
              "      <td>-999</td>\n",
              "      <td>-999</td>\n",
              "      <td>-999</td>\n",
              "      <td>-999</td>\n",
              "      <td></td>\n",
              "      <td>AL011851</td>\n",
              "      <td>UNNAMED</td>\n",
              "    </tr>\n",
              "    <tr>\n",
              "      <th>5</th>\n",
              "      <td>18510626</td>\n",
              "      <td>0000</td>\n",
              "      <td></td>\n",
              "      <td>HU</td>\n",
              "      <td>28.2N</td>\n",
              "      <td>97.0W</td>\n",
              "      <td>70</td>\n",
              "      <td>-999</td>\n",
              "      <td>-999</td>\n",
              "      <td>-999</td>\n",
              "      <td>...</td>\n",
              "      <td>-999</td>\n",
              "      <td>-999</td>\n",
              "      <td>-999</td>\n",
              "      <td>-999</td>\n",
              "      <td>-999</td>\n",
              "      <td>-999</td>\n",
              "      <td>-999</td>\n",
              "      <td></td>\n",
              "      <td>AL011851</td>\n",
              "      <td>UNNAMED</td>\n",
              "    </tr>\n",
              "    <tr>\n",
              "      <th>6</th>\n",
              "      <td>18510626</td>\n",
              "      <td>0600</td>\n",
              "      <td></td>\n",
              "      <td>TS</td>\n",
              "      <td>28.3N</td>\n",
              "      <td>97.6W</td>\n",
              "      <td>60</td>\n",
              "      <td>-999</td>\n",
              "      <td>-999</td>\n",
              "      <td>-999</td>\n",
              "      <td>...</td>\n",
              "      <td>-999</td>\n",
              "      <td>-999</td>\n",
              "      <td>-999</td>\n",
              "      <td>-999</td>\n",
              "      <td>-999</td>\n",
              "      <td>-999</td>\n",
              "      <td>-999</td>\n",
              "      <td></td>\n",
              "      <td>AL011851</td>\n",
              "      <td>UNNAMED</td>\n",
              "    </tr>\n",
              "    <tr>\n",
              "      <th>7</th>\n",
              "      <td>18510626</td>\n",
              "      <td>1200</td>\n",
              "      <td></td>\n",
              "      <td>TS</td>\n",
              "      <td>28.4N</td>\n",
              "      <td>98.3W</td>\n",
              "      <td>60</td>\n",
              "      <td>-999</td>\n",
              "      <td>-999</td>\n",
              "      <td>-999</td>\n",
              "      <td>...</td>\n",
              "      <td>-999</td>\n",
              "      <td>-999</td>\n",
              "      <td>-999</td>\n",
              "      <td>-999</td>\n",
              "      <td>-999</td>\n",
              "      <td>-999</td>\n",
              "      <td>-999</td>\n",
              "      <td></td>\n",
              "      <td>AL011851</td>\n",
              "      <td>UNNAMED</td>\n",
              "    </tr>\n",
              "    <tr>\n",
              "      <th>8</th>\n",
              "      <td>18510626</td>\n",
              "      <td>1800</td>\n",
              "      <td></td>\n",
              "      <td>TS</td>\n",
              "      <td>28.6N</td>\n",
              "      <td>98.9W</td>\n",
              "      <td>50</td>\n",
              "      <td>-999</td>\n",
              "      <td>-999</td>\n",
              "      <td>-999</td>\n",
              "      <td>...</td>\n",
              "      <td>-999</td>\n",
              "      <td>-999</td>\n",
              "      <td>-999</td>\n",
              "      <td>-999</td>\n",
              "      <td>-999</td>\n",
              "      <td>-999</td>\n",
              "      <td>-999</td>\n",
              "      <td></td>\n",
              "      <td>AL011851</td>\n",
              "      <td>UNNAMED</td>\n",
              "    </tr>\n",
              "    <tr>\n",
              "      <th>9</th>\n",
              "      <td>18510627</td>\n",
              "      <td>0000</td>\n",
              "      <td></td>\n",
              "      <td>TS</td>\n",
              "      <td>29.0N</td>\n",
              "      <td>99.4W</td>\n",
              "      <td>50</td>\n",
              "      <td>-999</td>\n",
              "      <td>-999</td>\n",
              "      <td>-999</td>\n",
              "      <td>...</td>\n",
              "      <td>-999</td>\n",
              "      <td>-999</td>\n",
              "      <td>-999</td>\n",
              "      <td>-999</td>\n",
              "      <td>-999</td>\n",
              "      <td>-999</td>\n",
              "      <td>-999</td>\n",
              "      <td></td>\n",
              "      <td>AL011851</td>\n",
              "      <td>UNNAMED</td>\n",
              "    </tr>\n",
              "    <tr>\n",
              "      <th>10</th>\n",
              "      <td>18510627</td>\n",
              "      <td>0600</td>\n",
              "      <td></td>\n",
              "      <td>TS</td>\n",
              "      <td>29.5N</td>\n",
              "      <td>99.8W</td>\n",
              "      <td>40</td>\n",
              "      <td>-999</td>\n",
              "      <td>-999</td>\n",
              "      <td>-999</td>\n",
              "      <td>...</td>\n",
              "      <td>-999</td>\n",
              "      <td>-999</td>\n",
              "      <td>-999</td>\n",
              "      <td>-999</td>\n",
              "      <td>-999</td>\n",
              "      <td>-999</td>\n",
              "      <td>-999</td>\n",
              "      <td></td>\n",
              "      <td>AL011851</td>\n",
              "      <td>UNNAMED</td>\n",
              "    </tr>\n",
              "    <tr>\n",
              "      <th>11</th>\n",
              "      <td>18510627</td>\n",
              "      <td>1200</td>\n",
              "      <td></td>\n",
              "      <td>TS</td>\n",
              "      <td>30.0N</td>\n",
              "      <td>100.0W</td>\n",
              "      <td>40</td>\n",
              "      <td>-999</td>\n",
              "      <td>-999</td>\n",
              "      <td>-999</td>\n",
              "      <td>...</td>\n",
              "      <td>-999</td>\n",
              "      <td>-999</td>\n",
              "      <td>-999</td>\n",
              "      <td>-999</td>\n",
              "      <td>-999</td>\n",
              "      <td>-999</td>\n",
              "      <td>-999</td>\n",
              "      <td></td>\n",
              "      <td>AL011851</td>\n",
              "      <td>UNNAMED</td>\n",
              "    </tr>\n",
              "    <tr>\n",
              "      <th>12</th>\n",
              "      <td>18510627</td>\n",
              "      <td>1800</td>\n",
              "      <td></td>\n",
              "      <td>TS</td>\n",
              "      <td>30.5N</td>\n",
              "      <td>100.1W</td>\n",
              "      <td>40</td>\n",
              "      <td>-999</td>\n",
              "      <td>-999</td>\n",
              "      <td>-999</td>\n",
              "      <td>...</td>\n",
              "      <td>-999</td>\n",
              "      <td>-999</td>\n",
              "      <td>-999</td>\n",
              "      <td>-999</td>\n",
              "      <td>-999</td>\n",
              "      <td>-999</td>\n",
              "      <td>-999</td>\n",
              "      <td></td>\n",
              "      <td>AL011851</td>\n",
              "      <td>UNNAMED</td>\n",
              "    </tr>\n",
              "    <tr>\n",
              "      <th>13</th>\n",
              "      <td>18510628</td>\n",
              "      <td>0000</td>\n",
              "      <td></td>\n",
              "      <td>TS</td>\n",
              "      <td>31.0N</td>\n",
              "      <td>100.2W</td>\n",
              "      <td>40</td>\n",
              "      <td>-999</td>\n",
              "      <td>-999</td>\n",
              "      <td>-999</td>\n",
              "      <td>...</td>\n",
              "      <td>-999</td>\n",
              "      <td>-999</td>\n",
              "      <td>-999</td>\n",
              "      <td>-999</td>\n",
              "      <td>-999</td>\n",
              "      <td>-999</td>\n",
              "      <td>-999</td>\n",
              "      <td></td>\n",
              "      <td>AL011851</td>\n",
              "      <td>UNNAMED</td>\n",
              "    </tr>\n",
              "  </tbody>\n",
              "</table>\n",
              "<p>14 rows × 23 columns</p>\n",
              "</div>"
            ],
            "text/plain": [
              "           0     1  2   3      4       5   6     7     8     9  \\\n",
              "0   18510625  0000     HU  28.0N   94.8W  80  -999  -999  -999   \n",
              "1   18510625  0600     HU  28.0N   95.4W  80  -999  -999  -999   \n",
              "2   18510625  1200     HU  28.0N   96.0W  80  -999  -999  -999   \n",
              "3   18510625  1800     HU  28.1N   96.5W  80  -999  -999  -999   \n",
              "4   18510625  2100  L  HU  28.2N   96.8W  80  -999  -999  -999   \n",
              "5   18510626  0000     HU  28.2N   97.0W  70  -999  -999  -999   \n",
              "6   18510626  0600     TS  28.3N   97.6W  60  -999  -999  -999   \n",
              "7   18510626  1200     TS  28.4N   98.3W  60  -999  -999  -999   \n",
              "8   18510626  1800     TS  28.6N   98.9W  50  -999  -999  -999   \n",
              "9   18510627  0000     TS  29.0N   99.4W  50  -999  -999  -999   \n",
              "10  18510627  0600     TS  29.5N   99.8W  40  -999  -999  -999   \n",
              "11  18510627  1200     TS  30.0N  100.0W  40  -999  -999  -999   \n",
              "12  18510627  1800     TS  30.5N  100.1W  40  -999  -999  -999   \n",
              "13  18510628  0000     TS  31.0N  100.2W  40  -999  -999  -999   \n",
              "\n",
              "           ...             13    14    15    16    17    18    19 20  \\\n",
              "0          ...           -999  -999  -999  -999  -999  -999  -999      \n",
              "1          ...           -999  -999  -999  -999  -999  -999  -999      \n",
              "2          ...           -999  -999  -999  -999  -999  -999  -999      \n",
              "3          ...           -999  -999  -999  -999  -999  -999  -999      \n",
              "4          ...           -999  -999  -999  -999  -999  -999  -999      \n",
              "5          ...           -999  -999  -999  -999  -999  -999  -999      \n",
              "6          ...           -999  -999  -999  -999  -999  -999  -999      \n",
              "7          ...           -999  -999  -999  -999  -999  -999  -999      \n",
              "8          ...           -999  -999  -999  -999  -999  -999  -999      \n",
              "9          ...           -999  -999  -999  -999  -999  -999  -999      \n",
              "10         ...           -999  -999  -999  -999  -999  -999  -999      \n",
              "11         ...           -999  -999  -999  -999  -999  -999  -999      \n",
              "12         ...           -999  -999  -999  -999  -999  -999  -999      \n",
              "13         ...           -999  -999  -999  -999  -999  -999  -999      \n",
              "\n",
              "          id                 name  \n",
              "0   AL011851              UNNAMED  \n",
              "1   AL011851              UNNAMED  \n",
              "2   AL011851              UNNAMED  \n",
              "3   AL011851              UNNAMED  \n",
              "4   AL011851              UNNAMED  \n",
              "5   AL011851              UNNAMED  \n",
              "6   AL011851              UNNAMED  \n",
              "7   AL011851              UNNAMED  \n",
              "8   AL011851              UNNAMED  \n",
              "9   AL011851              UNNAMED  \n",
              "10  AL011851              UNNAMED  \n",
              "11  AL011851              UNNAMED  \n",
              "12  AL011851              UNNAMED  \n",
              "13  AL011851              UNNAMED  \n",
              "\n",
              "[14 rows x 23 columns]"
            ]
          },
          "execution_count": 11,
          "metadata": {},
          "output_type": "execute_result"
        }
      ],
      "source": [
        "atlantic_storm_dfs[0]"
      ]
    },
    {
      "cell_type": "code",
      "execution_count": null,
      "metadata": {
        "collapsed": true,
        "id": "FEyJbq3h-To6"
      },
      "outputs": [],
      "source": [
        "atlantic_storms = pd.concat(atlantic_storm_dfs)"
      ]
    },
    {
      "cell_type": "code",
      "execution_count": null,
      "metadata": {
        "id": "sJC01mv6-To6",
        "outputId": "a0f276bc-c2c8-464d-9f80-0eca9f5e542b"
      },
      "outputs": [
        {
          "data": {
            "text/html": [
              "<div>\n",
              "<table border=\"1\" class=\"dataframe\">\n",
              "  <thead>\n",
              "    <tr style=\"text-align: right;\">\n",
              "      <th></th>\n",
              "      <th>0</th>\n",
              "      <th>1</th>\n",
              "      <th>2</th>\n",
              "      <th>3</th>\n",
              "      <th>4</th>\n",
              "      <th>5</th>\n",
              "      <th>6</th>\n",
              "      <th>7</th>\n",
              "      <th>8</th>\n",
              "      <th>9</th>\n",
              "      <th>...</th>\n",
              "      <th>13</th>\n",
              "      <th>14</th>\n",
              "      <th>15</th>\n",
              "      <th>16</th>\n",
              "      <th>17</th>\n",
              "      <th>18</th>\n",
              "      <th>19</th>\n",
              "      <th>20</th>\n",
              "      <th>id</th>\n",
              "      <th>name</th>\n",
              "    </tr>\n",
              "  </thead>\n",
              "  <tbody>\n",
              "    <tr>\n",
              "      <th>0</th>\n",
              "      <td>18510625</td>\n",
              "      <td>0000</td>\n",
              "      <td></td>\n",
              "      <td>HU</td>\n",
              "      <td>28.0N</td>\n",
              "      <td>94.8W</td>\n",
              "      <td>80</td>\n",
              "      <td>-999</td>\n",
              "      <td>-999</td>\n",
              "      <td>-999</td>\n",
              "      <td>...</td>\n",
              "      <td>-999</td>\n",
              "      <td>-999</td>\n",
              "      <td>-999</td>\n",
              "      <td>-999</td>\n",
              "      <td>-999</td>\n",
              "      <td>-999</td>\n",
              "      <td>-999</td>\n",
              "      <td></td>\n",
              "      <td>AL011851</td>\n",
              "      <td>UNNAMED</td>\n",
              "    </tr>\n",
              "    <tr>\n",
              "      <th>1</th>\n",
              "      <td>18510625</td>\n",
              "      <td>0600</td>\n",
              "      <td></td>\n",
              "      <td>HU</td>\n",
              "      <td>28.0N</td>\n",
              "      <td>95.4W</td>\n",
              "      <td>80</td>\n",
              "      <td>-999</td>\n",
              "      <td>-999</td>\n",
              "      <td>-999</td>\n",
              "      <td>...</td>\n",
              "      <td>-999</td>\n",
              "      <td>-999</td>\n",
              "      <td>-999</td>\n",
              "      <td>-999</td>\n",
              "      <td>-999</td>\n",
              "      <td>-999</td>\n",
              "      <td>-999</td>\n",
              "      <td></td>\n",
              "      <td>AL011851</td>\n",
              "      <td>UNNAMED</td>\n",
              "    </tr>\n",
              "    <tr>\n",
              "      <th>2</th>\n",
              "      <td>18510625</td>\n",
              "      <td>1200</td>\n",
              "      <td></td>\n",
              "      <td>HU</td>\n",
              "      <td>28.0N</td>\n",
              "      <td>96.0W</td>\n",
              "      <td>80</td>\n",
              "      <td>-999</td>\n",
              "      <td>-999</td>\n",
              "      <td>-999</td>\n",
              "      <td>...</td>\n",
              "      <td>-999</td>\n",
              "      <td>-999</td>\n",
              "      <td>-999</td>\n",
              "      <td>-999</td>\n",
              "      <td>-999</td>\n",
              "      <td>-999</td>\n",
              "      <td>-999</td>\n",
              "      <td></td>\n",
              "      <td>AL011851</td>\n",
              "      <td>UNNAMED</td>\n",
              "    </tr>\n",
              "    <tr>\n",
              "      <th>3</th>\n",
              "      <td>18510625</td>\n",
              "      <td>1800</td>\n",
              "      <td></td>\n",
              "      <td>HU</td>\n",
              "      <td>28.1N</td>\n",
              "      <td>96.5W</td>\n",
              "      <td>80</td>\n",
              "      <td>-999</td>\n",
              "      <td>-999</td>\n",
              "      <td>-999</td>\n",
              "      <td>...</td>\n",
              "      <td>-999</td>\n",
              "      <td>-999</td>\n",
              "      <td>-999</td>\n",
              "      <td>-999</td>\n",
              "      <td>-999</td>\n",
              "      <td>-999</td>\n",
              "      <td>-999</td>\n",
              "      <td></td>\n",
              "      <td>AL011851</td>\n",
              "      <td>UNNAMED</td>\n",
              "    </tr>\n",
              "    <tr>\n",
              "      <th>4</th>\n",
              "      <td>18510625</td>\n",
              "      <td>2100</td>\n",
              "      <td>L</td>\n",
              "      <td>HU</td>\n",
              "      <td>28.2N</td>\n",
              "      <td>96.8W</td>\n",
              "      <td>80</td>\n",
              "      <td>-999</td>\n",
              "      <td>-999</td>\n",
              "      <td>-999</td>\n",
              "      <td>...</td>\n",
              "      <td>-999</td>\n",
              "      <td>-999</td>\n",
              "      <td>-999</td>\n",
              "      <td>-999</td>\n",
              "      <td>-999</td>\n",
              "      <td>-999</td>\n",
              "      <td>-999</td>\n",
              "      <td></td>\n",
              "      <td>AL011851</td>\n",
              "      <td>UNNAMED</td>\n",
              "    </tr>\n",
              "    <tr>\n",
              "      <th>5</th>\n",
              "      <td>18510626</td>\n",
              "      <td>0000</td>\n",
              "      <td></td>\n",
              "      <td>HU</td>\n",
              "      <td>28.2N</td>\n",
              "      <td>97.0W</td>\n",
              "      <td>70</td>\n",
              "      <td>-999</td>\n",
              "      <td>-999</td>\n",
              "      <td>-999</td>\n",
              "      <td>...</td>\n",
              "      <td>-999</td>\n",
              "      <td>-999</td>\n",
              "      <td>-999</td>\n",
              "      <td>-999</td>\n",
              "      <td>-999</td>\n",
              "      <td>-999</td>\n",
              "      <td>-999</td>\n",
              "      <td></td>\n",
              "      <td>AL011851</td>\n",
              "      <td>UNNAMED</td>\n",
              "    </tr>\n",
              "    <tr>\n",
              "      <th>6</th>\n",
              "      <td>18510626</td>\n",
              "      <td>0600</td>\n",
              "      <td></td>\n",
              "      <td>TS</td>\n",
              "      <td>28.3N</td>\n",
              "      <td>97.6W</td>\n",
              "      <td>60</td>\n",
              "      <td>-999</td>\n",
              "      <td>-999</td>\n",
              "      <td>-999</td>\n",
              "      <td>...</td>\n",
              "      <td>-999</td>\n",
              "      <td>-999</td>\n",
              "      <td>-999</td>\n",
              "      <td>-999</td>\n",
              "      <td>-999</td>\n",
              "      <td>-999</td>\n",
              "      <td>-999</td>\n",
              "      <td></td>\n",
              "      <td>AL011851</td>\n",
              "      <td>UNNAMED</td>\n",
              "    </tr>\n",
              "    <tr>\n",
              "      <th>7</th>\n",
              "      <td>18510626</td>\n",
              "      <td>1200</td>\n",
              "      <td></td>\n",
              "      <td>TS</td>\n",
              "      <td>28.4N</td>\n",
              "      <td>98.3W</td>\n",
              "      <td>60</td>\n",
              "      <td>-999</td>\n",
              "      <td>-999</td>\n",
              "      <td>-999</td>\n",
              "      <td>...</td>\n",
              "      <td>-999</td>\n",
              "      <td>-999</td>\n",
              "      <td>-999</td>\n",
              "      <td>-999</td>\n",
              "      <td>-999</td>\n",
              "      <td>-999</td>\n",
              "      <td>-999</td>\n",
              "      <td></td>\n",
              "      <td>AL011851</td>\n",
              "      <td>UNNAMED</td>\n",
              "    </tr>\n",
              "    <tr>\n",
              "      <th>8</th>\n",
              "      <td>18510626</td>\n",
              "      <td>1800</td>\n",
              "      <td></td>\n",
              "      <td>TS</td>\n",
              "      <td>28.6N</td>\n",
              "      <td>98.9W</td>\n",
              "      <td>50</td>\n",
              "      <td>-999</td>\n",
              "      <td>-999</td>\n",
              "      <td>-999</td>\n",
              "      <td>...</td>\n",
              "      <td>-999</td>\n",
              "      <td>-999</td>\n",
              "      <td>-999</td>\n",
              "      <td>-999</td>\n",
              "      <td>-999</td>\n",
              "      <td>-999</td>\n",
              "      <td>-999</td>\n",
              "      <td></td>\n",
              "      <td>AL011851</td>\n",
              "      <td>UNNAMED</td>\n",
              "    </tr>\n",
              "    <tr>\n",
              "      <th>9</th>\n",
              "      <td>18510627</td>\n",
              "      <td>0000</td>\n",
              "      <td></td>\n",
              "      <td>TS</td>\n",
              "      <td>29.0N</td>\n",
              "      <td>99.4W</td>\n",
              "      <td>50</td>\n",
              "      <td>-999</td>\n",
              "      <td>-999</td>\n",
              "      <td>-999</td>\n",
              "      <td>...</td>\n",
              "      <td>-999</td>\n",
              "      <td>-999</td>\n",
              "      <td>-999</td>\n",
              "      <td>-999</td>\n",
              "      <td>-999</td>\n",
              "      <td>-999</td>\n",
              "      <td>-999</td>\n",
              "      <td></td>\n",
              "      <td>AL011851</td>\n",
              "      <td>UNNAMED</td>\n",
              "    </tr>\n",
              "  </tbody>\n",
              "</table>\n",
              "<p>10 rows × 23 columns</p>\n",
              "</div>"
            ],
            "text/plain": [
              "          0     1  2   3      4      5   6     7     8     9  \\\n",
              "0  18510625  0000     HU  28.0N  94.8W  80  -999  -999  -999   \n",
              "1  18510625  0600     HU  28.0N  95.4W  80  -999  -999  -999   \n",
              "2  18510625  1200     HU  28.0N  96.0W  80  -999  -999  -999   \n",
              "3  18510625  1800     HU  28.1N  96.5W  80  -999  -999  -999   \n",
              "4  18510625  2100  L  HU  28.2N  96.8W  80  -999  -999  -999   \n",
              "5  18510626  0000     HU  28.2N  97.0W  70  -999  -999  -999   \n",
              "6  18510626  0600     TS  28.3N  97.6W  60  -999  -999  -999   \n",
              "7  18510626  1200     TS  28.4N  98.3W  60  -999  -999  -999   \n",
              "8  18510626  1800     TS  28.6N  98.9W  50  -999  -999  -999   \n",
              "9  18510627  0000     TS  29.0N  99.4W  50  -999  -999  -999   \n",
              "\n",
              "          ...             13    14    15    16    17    18    19 20        id  \\\n",
              "0         ...           -999  -999  -999  -999  -999  -999  -999     AL011851   \n",
              "1         ...           -999  -999  -999  -999  -999  -999  -999     AL011851   \n",
              "2         ...           -999  -999  -999  -999  -999  -999  -999     AL011851   \n",
              "3         ...           -999  -999  -999  -999  -999  -999  -999     AL011851   \n",
              "4         ...           -999  -999  -999  -999  -999  -999  -999     AL011851   \n",
              "5         ...           -999  -999  -999  -999  -999  -999  -999     AL011851   \n",
              "6         ...           -999  -999  -999  -999  -999  -999  -999     AL011851   \n",
              "7         ...           -999  -999  -999  -999  -999  -999  -999     AL011851   \n",
              "8         ...           -999  -999  -999  -999  -999  -999  -999     AL011851   \n",
              "9         ...           -999  -999  -999  -999  -999  -999  -999     AL011851   \n",
              "\n",
              "                  name  \n",
              "0              UNNAMED  \n",
              "1              UNNAMED  \n",
              "2              UNNAMED  \n",
              "3              UNNAMED  \n",
              "4              UNNAMED  \n",
              "5              UNNAMED  \n",
              "6              UNNAMED  \n",
              "7              UNNAMED  \n",
              "8              UNNAMED  \n",
              "9              UNNAMED  \n",
              "\n",
              "[10 rows x 23 columns]"
            ]
          },
          "execution_count": 13,
          "metadata": {},
          "output_type": "execute_result"
        }
      ],
      "source": [
        "atlantic_storms.head(10)"
      ]
    },
    {
      "cell_type": "code",
      "execution_count": null,
      "metadata": {
        "id": "OXkRn7JR-To7",
        "outputId": "b35c44e6-58c6-4af5-8dbc-abef0aefd56a"
      },
      "outputs": [
        {
          "data": {
            "text/plain": [
              "49085"
            ]
          },
          "execution_count": 14,
          "metadata": {},
          "output_type": "execute_result"
        }
      ],
      "source": [
        "len(atlantic_storms)"
      ]
    },
    {
      "cell_type": "markdown",
      "metadata": {
        "id": "ZHeKDQ-o-To7"
      },
      "source": [
        "## Setting columns"
      ]
    },
    {
      "cell_type": "markdown",
      "metadata": {
        "id": "UwjR_HVv-To7"
      },
      "source": [
        "Now we read the column headers out of the data dictionary and assign them appropriate variable names."
      ]
    },
    {
      "cell_type": "code",
      "execution_count": null,
      "metadata": {
        "scrolled": true,
        "id": "9Sh4o_yV-To7"
      },
      "outputs": [],
      "source": [
        "# The following line was part of the original code by Bilogur that broke\n",
        "# atlantic_storms = atlantic_storms.reindex(columns=atlantic_storms.columns[-2:] | atlantic_storms.columns[:-2])"
      ]
    },
    {
      "cell_type": "code",
      "source": [
        "# A fix for the broken code that accomplishes the same task\n",
        "cols_to_move = ['id', 'name']\n",
        "atlantic_storms = atlantic_storms[cols_to_move + [col for col in atlantic_storms.columns if col not in cols_to_move]]"
      ],
      "metadata": {
        "id": "ydL8GtKI-6_R"
      },
      "execution_count": null,
      "outputs": []
    },
    {
      "cell_type": "code",
      "execution_count": null,
      "metadata": {
        "id": "ACYJLBQY-To7",
        "outputId": "d8c4a55b-f0a4-46ec-b0d1-b7f92e1f4ebf"
      },
      "outputs": [
        {
          "data": {
            "text/html": [
              "<div>\n",
              "<table border=\"1\" class=\"dataframe\">\n",
              "  <thead>\n",
              "    <tr style=\"text-align: right;\">\n",
              "      <th></th>\n",
              "      <th>id</th>\n",
              "      <th>name</th>\n",
              "      <th>0</th>\n",
              "      <th>1</th>\n",
              "      <th>2</th>\n",
              "      <th>3</th>\n",
              "      <th>4</th>\n",
              "      <th>5</th>\n",
              "      <th>6</th>\n",
              "      <th>7</th>\n",
              "      <th>...</th>\n",
              "      <th>11</th>\n",
              "      <th>12</th>\n",
              "      <th>13</th>\n",
              "      <th>14</th>\n",
              "      <th>15</th>\n",
              "      <th>16</th>\n",
              "      <th>17</th>\n",
              "      <th>18</th>\n",
              "      <th>19</th>\n",
              "      <th>20</th>\n",
              "    </tr>\n",
              "  </thead>\n",
              "  <tbody>\n",
              "    <tr>\n",
              "      <th>0</th>\n",
              "      <td>AL011851</td>\n",
              "      <td>UNNAMED</td>\n",
              "      <td>18510625</td>\n",
              "      <td>0000</td>\n",
              "      <td></td>\n",
              "      <td>HU</td>\n",
              "      <td>28.0N</td>\n",
              "      <td>94.8W</td>\n",
              "      <td>80</td>\n",
              "      <td>-999</td>\n",
              "      <td>...</td>\n",
              "      <td>-999</td>\n",
              "      <td>-999</td>\n",
              "      <td>-999</td>\n",
              "      <td>-999</td>\n",
              "      <td>-999</td>\n",
              "      <td>-999</td>\n",
              "      <td>-999</td>\n",
              "      <td>-999</td>\n",
              "      <td>-999</td>\n",
              "      <td></td>\n",
              "    </tr>\n",
              "    <tr>\n",
              "      <th>1</th>\n",
              "      <td>AL011851</td>\n",
              "      <td>UNNAMED</td>\n",
              "      <td>18510625</td>\n",
              "      <td>0600</td>\n",
              "      <td></td>\n",
              "      <td>HU</td>\n",
              "      <td>28.0N</td>\n",
              "      <td>95.4W</td>\n",
              "      <td>80</td>\n",
              "      <td>-999</td>\n",
              "      <td>...</td>\n",
              "      <td>-999</td>\n",
              "      <td>-999</td>\n",
              "      <td>-999</td>\n",
              "      <td>-999</td>\n",
              "      <td>-999</td>\n",
              "      <td>-999</td>\n",
              "      <td>-999</td>\n",
              "      <td>-999</td>\n",
              "      <td>-999</td>\n",
              "      <td></td>\n",
              "    </tr>\n",
              "    <tr>\n",
              "      <th>2</th>\n",
              "      <td>AL011851</td>\n",
              "      <td>UNNAMED</td>\n",
              "      <td>18510625</td>\n",
              "      <td>1200</td>\n",
              "      <td></td>\n",
              "      <td>HU</td>\n",
              "      <td>28.0N</td>\n",
              "      <td>96.0W</td>\n",
              "      <td>80</td>\n",
              "      <td>-999</td>\n",
              "      <td>...</td>\n",
              "      <td>-999</td>\n",
              "      <td>-999</td>\n",
              "      <td>-999</td>\n",
              "      <td>-999</td>\n",
              "      <td>-999</td>\n",
              "      <td>-999</td>\n",
              "      <td>-999</td>\n",
              "      <td>-999</td>\n",
              "      <td>-999</td>\n",
              "      <td></td>\n",
              "    </tr>\n",
              "    <tr>\n",
              "      <th>3</th>\n",
              "      <td>AL011851</td>\n",
              "      <td>UNNAMED</td>\n",
              "      <td>18510625</td>\n",
              "      <td>1800</td>\n",
              "      <td></td>\n",
              "      <td>HU</td>\n",
              "      <td>28.1N</td>\n",
              "      <td>96.5W</td>\n",
              "      <td>80</td>\n",
              "      <td>-999</td>\n",
              "      <td>...</td>\n",
              "      <td>-999</td>\n",
              "      <td>-999</td>\n",
              "      <td>-999</td>\n",
              "      <td>-999</td>\n",
              "      <td>-999</td>\n",
              "      <td>-999</td>\n",
              "      <td>-999</td>\n",
              "      <td>-999</td>\n",
              "      <td>-999</td>\n",
              "      <td></td>\n",
              "    </tr>\n",
              "    <tr>\n",
              "      <th>4</th>\n",
              "      <td>AL011851</td>\n",
              "      <td>UNNAMED</td>\n",
              "      <td>18510625</td>\n",
              "      <td>2100</td>\n",
              "      <td>L</td>\n",
              "      <td>HU</td>\n",
              "      <td>28.2N</td>\n",
              "      <td>96.8W</td>\n",
              "      <td>80</td>\n",
              "      <td>-999</td>\n",
              "      <td>...</td>\n",
              "      <td>-999</td>\n",
              "      <td>-999</td>\n",
              "      <td>-999</td>\n",
              "      <td>-999</td>\n",
              "      <td>-999</td>\n",
              "      <td>-999</td>\n",
              "      <td>-999</td>\n",
              "      <td>-999</td>\n",
              "      <td>-999</td>\n",
              "      <td></td>\n",
              "    </tr>\n",
              "  </tbody>\n",
              "</table>\n",
              "<p>5 rows × 23 columns</p>\n",
              "</div>"
            ],
            "text/plain": [
              "         id                 name         0     1  2   3      4      5   6  \\\n",
              "0  AL011851              UNNAMED  18510625  0000     HU  28.0N  94.8W  80   \n",
              "1  AL011851              UNNAMED  18510625  0600     HU  28.0N  95.4W  80   \n",
              "2  AL011851              UNNAMED  18510625  1200     HU  28.0N  96.0W  80   \n",
              "3  AL011851              UNNAMED  18510625  1800     HU  28.1N  96.5W  80   \n",
              "4  AL011851              UNNAMED  18510625  2100  L  HU  28.2N  96.8W  80   \n",
              "\n",
              "      7 ...    11    12    13    14    15    16    17    18    19 20  \n",
              "0  -999 ...  -999  -999  -999  -999  -999  -999  -999  -999  -999     \n",
              "1  -999 ...  -999  -999  -999  -999  -999  -999  -999  -999  -999     \n",
              "2  -999 ...  -999  -999  -999  -999  -999  -999  -999  -999  -999     \n",
              "3  -999 ...  -999  -999  -999  -999  -999  -999  -999  -999  -999     \n",
              "4  -999 ...  -999  -999  -999  -999  -999  -999  -999  -999  -999     \n",
              "\n",
              "[5 rows x 23 columns]"
            ]
          },
          "execution_count": 16,
          "metadata": {},
          "output_type": "execute_result"
        }
      ],
      "source": [
        "atlantic_storms.head()"
      ]
    },
    {
      "cell_type": "code",
      "execution_count": null,
      "metadata": {
        "id": "rZ0p1CRG-To7",
        "outputId": "60834c96-1de9-48ee-8d49-660af2d9a19d"
      },
      "outputs": [
        {
          "data": {
            "text/plain": [
              "id                 AL011851\n",
              "name                UNNAMED\n",
              "0                  18510625\n",
              "1                      0000\n",
              "2                          \n",
              "3                        HU\n",
              "4                     28.0N\n",
              "5                     94.8W\n",
              "6                        80\n",
              "7                      -999\n",
              "8                      -999\n",
              "9                      -999\n",
              "10                     -999\n",
              "11                     -999\n",
              "12                     -999\n",
              "13                     -999\n",
              "14                     -999\n",
              "15                     -999\n",
              "16                     -999\n",
              "17                     -999\n",
              "18                     -999\n",
              "19                     -999\n",
              "20                         \n",
              "Name: 0, dtype: object"
            ]
          },
          "execution_count": 17,
          "metadata": {},
          "output_type": "execute_result"
        }
      ],
      "source": [
        "atlantic_storms.iloc[0]"
      ]
    },
    {
      "cell_type": "code",
      "execution_count": null,
      "metadata": {
        "id": "8fxi-8UZ-To7",
        "outputId": "d82cb96a-8004-479e-fc87-9309d102187a"
      },
      "outputs": [
        {
          "data": {
            "text/plain": [
              "Index([  'id', 'name',      0,      1,      2,      3,      4,      5,      6,\n",
              "            7,      8,      9,     10,     11,     12,     13,     14,     15,\n",
              "           16,     17,     18,     19,     20],\n",
              "      dtype='object')"
            ]
          },
          "execution_count": 18,
          "metadata": {},
          "output_type": "execute_result"
        }
      ],
      "source": [
        "atlantic_storms.columns"
      ]
    },
    {
      "cell_type": "code",
      "execution_count": null,
      "metadata": {
        "id": "-CTXzOyh-To7"
      },
      "outputs": [],
      "source": [
        "# Slight edit to original code: Original had an empty final column marked as \"na\". With the addition of Radius of Maximum Winds in newer data, this column is now filled.\n",
        "atlantic_storms.columns = [\n",
        "        \"id\",\n",
        "        \"name\",\n",
        "        \"date\",\n",
        "        \"hours_minutes\",\n",
        "        \"record_identifier\",\n",
        "        \"status_of_system\",\n",
        "        \"latitude\",\n",
        "        \"longitude\",\n",
        "        \"maximum_sustained_wind_knots\",\n",
        "        \"maximum_pressure\",\n",
        "        \"34_kt_ne\",\n",
        "        \"34_kt_se\",\n",
        "        \"34_kt_sw\",\n",
        "        \"34_kt_nw\",\n",
        "        \"50_kt_ne\",\n",
        "        \"50_kt_se\",\n",
        "        \"50_kt_sw\",\n",
        "        \"50_kt_nw\",\n",
        "        \"64_kt_ne\",\n",
        "        \"64_kt_se\",\n",
        "        \"64_kt_sw\",\n",
        "        \"64_kt_nw\",\n",
        "        \"rmw\"\n",
        "]"
      ]
    },
    {
      "cell_type": "code",
      "execution_count": null,
      "metadata": {
        "collapsed": true,
        "id": "I2M3Vzix-To7"
      },
      "outputs": [],
      "source": [
        "# Part of original code. No longer necessary due to addition of RMW column in newer data.\n",
        "# del atlantic_storms['na']"
      ]
    },
    {
      "cell_type": "code",
      "execution_count": null,
      "metadata": {
        "collapsed": true,
        "id": "jk505yXx-To7"
      },
      "outputs": [],
      "source": [
        "# This also appears to be unnecessary\n",
        "# pd.set_option(\"max_columns\", None)"
      ]
    },
    {
      "cell_type": "code",
      "execution_count": null,
      "metadata": {
        "id": "L20wLIHR-To7",
        "outputId": "b31914cf-d6a2-4ce9-8603-1ccf5e710af6"
      },
      "outputs": [
        {
          "data": {
            "text/html": [
              "<div>\n",
              "<table border=\"1\" class=\"dataframe\">\n",
              "  <thead>\n",
              "    <tr style=\"text-align: right;\">\n",
              "      <th></th>\n",
              "      <th>id</th>\n",
              "      <th>name</th>\n",
              "      <th>date</th>\n",
              "      <th>hours_minutes</th>\n",
              "      <th>record_identifier</th>\n",
              "      <th>status_of_system</th>\n",
              "      <th>latitude</th>\n",
              "      <th>longitude</th>\n",
              "      <th>maximum_sustained_wind_knots</th>\n",
              "      <th>maximum_pressure</th>\n",
              "      <th>34_kt_ne</th>\n",
              "      <th>34_kt_se</th>\n",
              "      <th>34_kt_sw</th>\n",
              "      <th>34_kt_nw</th>\n",
              "      <th>50_kt_ne</th>\n",
              "      <th>50_kt_se</th>\n",
              "      <th>50_kt_sw</th>\n",
              "      <th>50_kt_nw</th>\n",
              "      <th>64_kt_ne</th>\n",
              "      <th>64_kt_se</th>\n",
              "      <th>64_kt_sw</th>\n",
              "      <th>64_kt_nw</th>\n",
              "    </tr>\n",
              "  </thead>\n",
              "  <tbody>\n",
              "    <tr>\n",
              "      <th>0</th>\n",
              "      <td>AL011851</td>\n",
              "      <td>UNNAMED</td>\n",
              "      <td>18510625</td>\n",
              "      <td>0000</td>\n",
              "      <td></td>\n",
              "      <td>HU</td>\n",
              "      <td>28.0N</td>\n",
              "      <td>94.8W</td>\n",
              "      <td>80</td>\n",
              "      <td>-999</td>\n",
              "      <td>-999</td>\n",
              "      <td>-999</td>\n",
              "      <td>-999</td>\n",
              "      <td>-999</td>\n",
              "      <td>-999</td>\n",
              "      <td>-999</td>\n",
              "      <td>-999</td>\n",
              "      <td>-999</td>\n",
              "      <td>-999</td>\n",
              "      <td>-999</td>\n",
              "      <td>-999</td>\n",
              "      <td>-999</td>\n",
              "    </tr>\n",
              "    <tr>\n",
              "      <th>1</th>\n",
              "      <td>AL011851</td>\n",
              "      <td>UNNAMED</td>\n",
              "      <td>18510625</td>\n",
              "      <td>0600</td>\n",
              "      <td></td>\n",
              "      <td>HU</td>\n",
              "      <td>28.0N</td>\n",
              "      <td>95.4W</td>\n",
              "      <td>80</td>\n",
              "      <td>-999</td>\n",
              "      <td>-999</td>\n",
              "      <td>-999</td>\n",
              "      <td>-999</td>\n",
              "      <td>-999</td>\n",
              "      <td>-999</td>\n",
              "      <td>-999</td>\n",
              "      <td>-999</td>\n",
              "      <td>-999</td>\n",
              "      <td>-999</td>\n",
              "      <td>-999</td>\n",
              "      <td>-999</td>\n",
              "      <td>-999</td>\n",
              "    </tr>\n",
              "    <tr>\n",
              "      <th>2</th>\n",
              "      <td>AL011851</td>\n",
              "      <td>UNNAMED</td>\n",
              "      <td>18510625</td>\n",
              "      <td>1200</td>\n",
              "      <td></td>\n",
              "      <td>HU</td>\n",
              "      <td>28.0N</td>\n",
              "      <td>96.0W</td>\n",
              "      <td>80</td>\n",
              "      <td>-999</td>\n",
              "      <td>-999</td>\n",
              "      <td>-999</td>\n",
              "      <td>-999</td>\n",
              "      <td>-999</td>\n",
              "      <td>-999</td>\n",
              "      <td>-999</td>\n",
              "      <td>-999</td>\n",
              "      <td>-999</td>\n",
              "      <td>-999</td>\n",
              "      <td>-999</td>\n",
              "      <td>-999</td>\n",
              "      <td>-999</td>\n",
              "    </tr>\n",
              "    <tr>\n",
              "      <th>3</th>\n",
              "      <td>AL011851</td>\n",
              "      <td>UNNAMED</td>\n",
              "      <td>18510625</td>\n",
              "      <td>1800</td>\n",
              "      <td></td>\n",
              "      <td>HU</td>\n",
              "      <td>28.1N</td>\n",
              "      <td>96.5W</td>\n",
              "      <td>80</td>\n",
              "      <td>-999</td>\n",
              "      <td>-999</td>\n",
              "      <td>-999</td>\n",
              "      <td>-999</td>\n",
              "      <td>-999</td>\n",
              "      <td>-999</td>\n",
              "      <td>-999</td>\n",
              "      <td>-999</td>\n",
              "      <td>-999</td>\n",
              "      <td>-999</td>\n",
              "      <td>-999</td>\n",
              "      <td>-999</td>\n",
              "      <td>-999</td>\n",
              "    </tr>\n",
              "    <tr>\n",
              "      <th>4</th>\n",
              "      <td>AL011851</td>\n",
              "      <td>UNNAMED</td>\n",
              "      <td>18510625</td>\n",
              "      <td>2100</td>\n",
              "      <td>L</td>\n",
              "      <td>HU</td>\n",
              "      <td>28.2N</td>\n",
              "      <td>96.8W</td>\n",
              "      <td>80</td>\n",
              "      <td>-999</td>\n",
              "      <td>-999</td>\n",
              "      <td>-999</td>\n",
              "      <td>-999</td>\n",
              "      <td>-999</td>\n",
              "      <td>-999</td>\n",
              "      <td>-999</td>\n",
              "      <td>-999</td>\n",
              "      <td>-999</td>\n",
              "      <td>-999</td>\n",
              "      <td>-999</td>\n",
              "      <td>-999</td>\n",
              "      <td>-999</td>\n",
              "    </tr>\n",
              "  </tbody>\n",
              "</table>\n",
              "</div>"
            ],
            "text/plain": [
              "         id                 name      date hours_minutes record_identifier  \\\n",
              "0  AL011851              UNNAMED  18510625          0000                     \n",
              "1  AL011851              UNNAMED  18510625          0600                     \n",
              "2  AL011851              UNNAMED  18510625          1200                     \n",
              "3  AL011851              UNNAMED  18510625          1800                     \n",
              "4  AL011851              UNNAMED  18510625          2100                 L   \n",
              "\n",
              "  status_of_system latitude longitude maximum_sustained_wind_knots  \\\n",
              "0               HU    28.0N     94.8W                           80   \n",
              "1               HU    28.0N     95.4W                           80   \n",
              "2               HU    28.0N     96.0W                           80   \n",
              "3               HU    28.1N     96.5W                           80   \n",
              "4               HU    28.2N     96.8W                           80   \n",
              "\n",
              "  maximum_pressure 34_kt_ne 34_kt_se 34_kt_sw 34_kt_nw 50_kt_ne 50_kt_se  \\\n",
              "0             -999     -999     -999     -999     -999     -999     -999   \n",
              "1             -999     -999     -999     -999     -999     -999     -999   \n",
              "2             -999     -999     -999     -999     -999     -999     -999   \n",
              "3             -999     -999     -999     -999     -999     -999     -999   \n",
              "4             -999     -999     -999     -999     -999     -999     -999   \n",
              "\n",
              "  50_kt_sw 50_kt_nw 64_kt_ne 64_kt_se 64_kt_sw 64_kt_nw  \n",
              "0     -999     -999     -999     -999     -999     -999  \n",
              "1     -999     -999     -999     -999     -999     -999  \n",
              "2     -999     -999     -999     -999     -999     -999  \n",
              "3     -999     -999     -999     -999     -999     -999  \n",
              "4     -999     -999     -999     -999     -999     -999  "
            ]
          },
          "execution_count": 22,
          "metadata": {},
          "output_type": "execute_result"
        }
      ],
      "source": [
        "atlantic_storms.head()"
      ]
    },
    {
      "cell_type": "markdown",
      "metadata": {
        "id": "66QiQtR6-To7"
      },
      "source": [
        "## Inserting sentinels"
      ]
    },
    {
      "cell_type": "markdown",
      "metadata": {
        "id": "VTdVVxPf-To7"
      },
      "source": [
        "-999 is used as a sentinel value for old data for which that data point is actually unknown. It'd be better to pass those as blank lines (e.g. `,,`) instead, so let's fill them in thusly."
      ]
    },
    {
      "cell_type": "code",
      "execution_count": null,
      "metadata": {
        "scrolled": true,
        "id": "ENFeOvyG-To7",
        "outputId": "8784b40a-ea68-4d93-ed53-265b630099cf"
      },
      "outputs": [
        {
          "data": {
            "text/plain": [
              "'-999'"
            ]
          },
          "execution_count": 23,
          "metadata": {},
          "output_type": "execute_result"
        }
      ],
      "source": [
        "atlantic_storms.iloc[0]['34_kt_sw']"
      ]
    },
    {
      "cell_type": "code",
      "execution_count": null,
      "metadata": {
        "id": "31zLfw74-To7"
      },
      "outputs": [],
      "source": [
        "import numpy as np\n",
        "atlantic_storms = atlantic_storms.replace(to_replace='-999', value=np.nan)"
      ]
    },
    {
      "cell_type": "markdown",
      "metadata": {
        "id": "HTKNDPCq-To8"
      },
      "source": [
        "The variables are all string types:"
      ]
    },
    {
      "cell_type": "code",
      "execution_count": null,
      "metadata": {
        "id": "gKLPIieN-To8",
        "outputId": "6a42c389-02ea-48fa-e31e-b718c7c58321"
      },
      "outputs": [
        {
          "data": {
            "text/plain": [
              "id                              object\n",
              "name                            object\n",
              "date                            object\n",
              "hours_minutes                   object\n",
              "record_identifier               object\n",
              "status_of_system                object\n",
              "latitude                        object\n",
              "longitude                       object\n",
              "maximum_sustained_wind_knots    object\n",
              "maximum_pressure                object\n",
              "34_kt_ne                        object\n",
              "34_kt_se                        object\n",
              "34_kt_sw                        object\n",
              "34_kt_nw                        object\n",
              "50_kt_ne                        object\n",
              "50_kt_se                        object\n",
              "50_kt_sw                        object\n",
              "50_kt_nw                        object\n",
              "64_kt_ne                        object\n",
              "64_kt_se                        object\n",
              "64_kt_sw                        object\n",
              "64_kt_nw                        object\n",
              "dtype: object"
            ]
          },
          "execution_count": 25,
          "metadata": {},
          "output_type": "execute_result"
        }
      ],
      "source": [
        "atlantic_storms.dtypes"
      ]
    },
    {
      "cell_type": "markdown",
      "metadata": {
        "id": "Vb9ipaCF-To8"
      },
      "source": [
        "There are some empty strings present:"
      ]
    },
    {
      "cell_type": "code",
      "execution_count": null,
      "metadata": {
        "id": "6Gh0Es3r-To8",
        "outputId": "a1aa3da8-cab3-497e-e233-60d903990e84"
      },
      "outputs": [
        {
          "data": {
            "text/plain": [
              "''"
            ]
          },
          "execution_count": 26,
          "metadata": {},
          "output_type": "execute_result"
        }
      ],
      "source": [
        "atlantic_storms.iloc[0]['record_identifier']"
      ]
    },
    {
      "cell_type": "code",
      "execution_count": null,
      "metadata": {
        "id": "vAMSN4-7-To8",
        "outputId": "862dee06-9763-405a-fdc6-af17dd075bcd"
      },
      "outputs": [
        {
          "data": {
            "text/plain": [
              "     48121\n",
              "L      903\n",
              "I       27\n",
              "P        9\n",
              "S        7\n",
              "C        5\n",
              "T        5\n",
              "W        4\n",
              "R        3\n",
              "G        1\n",
              "Name: record_identifier, dtype: int64"
            ]
          },
          "execution_count": 27,
          "metadata": {},
          "output_type": "execute_result"
        }
      ],
      "source": [
        "atlantic_storms['record_identifier'].value_counts()"
      ]
    },
    {
      "cell_type": "markdown",
      "metadata": {
        "id": "F020oEcD-To8"
      },
      "source": [
        "Which we `nan`-ify:"
      ]
    },
    {
      "cell_type": "code",
      "execution_count": null,
      "metadata": {
        "id": "g6LR9jfG-To8"
      },
      "outputs": [],
      "source": [
        "atlantic_storms = atlantic_storms.replace(to_replace=\"\", value=np.nan)"
      ]
    },
    {
      "cell_type": "code",
      "execution_count": null,
      "metadata": {
        "id": "dirure_3-To-",
        "outputId": "f90c5d0c-1d11-4b9f-cbd4-c2d41dd929de"
      },
      "outputs": [
        {
          "data": {
            "text/plain": [
              "NaN    48121\n",
              "L        903\n",
              "I         27\n",
              "P          9\n",
              "S          7\n",
              "C          5\n",
              "T          5\n",
              "W          4\n",
              "R          3\n",
              "G          1\n",
              "Name: record_identifier, dtype: int64"
            ]
          },
          "execution_count": 29,
          "metadata": {},
          "output_type": "execute_result"
        }
      ],
      "source": [
        "atlantic_storms['record_identifier'].value_counts(dropna=False)"
      ]
    },
    {
      "cell_type": "code",
      "execution_count": null,
      "metadata": {
        "id": "lYMzsLFH-To-",
        "outputId": "b98dbf3c-edf1-4703-deb8-669557fd0b64"
      },
      "outputs": [
        {
          "data": {
            "text/html": [
              "<div>\n",
              "<table border=\"1\" class=\"dataframe\">\n",
              "  <thead>\n",
              "    <tr style=\"text-align: right;\">\n",
              "      <th></th>\n",
              "      <th>id</th>\n",
              "      <th>name</th>\n",
              "      <th>date</th>\n",
              "      <th>hours_minutes</th>\n",
              "      <th>record_identifier</th>\n",
              "      <th>status_of_system</th>\n",
              "      <th>latitude</th>\n",
              "      <th>longitude</th>\n",
              "      <th>maximum_sustained_wind_knots</th>\n",
              "      <th>maximum_pressure</th>\n",
              "      <th>34_kt_ne</th>\n",
              "      <th>34_kt_se</th>\n",
              "      <th>34_kt_sw</th>\n",
              "      <th>34_kt_nw</th>\n",
              "      <th>50_kt_ne</th>\n",
              "      <th>50_kt_se</th>\n",
              "      <th>50_kt_sw</th>\n",
              "      <th>50_kt_nw</th>\n",
              "      <th>64_kt_ne</th>\n",
              "      <th>64_kt_se</th>\n",
              "      <th>64_kt_sw</th>\n",
              "      <th>64_kt_nw</th>\n",
              "    </tr>\n",
              "  </thead>\n",
              "  <tbody>\n",
              "    <tr>\n",
              "      <th>0</th>\n",
              "      <td>AL011851</td>\n",
              "      <td>UNNAMED</td>\n",
              "      <td>18510625</td>\n",
              "      <td>0000</td>\n",
              "      <td>NaN</td>\n",
              "      <td>HU</td>\n",
              "      <td>28.0N</td>\n",
              "      <td>94.8W</td>\n",
              "      <td>80</td>\n",
              "      <td>NaN</td>\n",
              "      <td>NaN</td>\n",
              "      <td>NaN</td>\n",
              "      <td>NaN</td>\n",
              "      <td>NaN</td>\n",
              "      <td>NaN</td>\n",
              "      <td>NaN</td>\n",
              "      <td>NaN</td>\n",
              "      <td>NaN</td>\n",
              "      <td>NaN</td>\n",
              "      <td>NaN</td>\n",
              "      <td>NaN</td>\n",
              "      <td>NaN</td>\n",
              "    </tr>\n",
              "    <tr>\n",
              "      <th>1</th>\n",
              "      <td>AL011851</td>\n",
              "      <td>UNNAMED</td>\n",
              "      <td>18510625</td>\n",
              "      <td>0600</td>\n",
              "      <td>NaN</td>\n",
              "      <td>HU</td>\n",
              "      <td>28.0N</td>\n",
              "      <td>95.4W</td>\n",
              "      <td>80</td>\n",
              "      <td>NaN</td>\n",
              "      <td>NaN</td>\n",
              "      <td>NaN</td>\n",
              "      <td>NaN</td>\n",
              "      <td>NaN</td>\n",
              "      <td>NaN</td>\n",
              "      <td>NaN</td>\n",
              "      <td>NaN</td>\n",
              "      <td>NaN</td>\n",
              "      <td>NaN</td>\n",
              "      <td>NaN</td>\n",
              "      <td>NaN</td>\n",
              "      <td>NaN</td>\n",
              "    </tr>\n",
              "    <tr>\n",
              "      <th>2</th>\n",
              "      <td>AL011851</td>\n",
              "      <td>UNNAMED</td>\n",
              "      <td>18510625</td>\n",
              "      <td>1200</td>\n",
              "      <td>NaN</td>\n",
              "      <td>HU</td>\n",
              "      <td>28.0N</td>\n",
              "      <td>96.0W</td>\n",
              "      <td>80</td>\n",
              "      <td>NaN</td>\n",
              "      <td>NaN</td>\n",
              "      <td>NaN</td>\n",
              "      <td>NaN</td>\n",
              "      <td>NaN</td>\n",
              "      <td>NaN</td>\n",
              "      <td>NaN</td>\n",
              "      <td>NaN</td>\n",
              "      <td>NaN</td>\n",
              "      <td>NaN</td>\n",
              "      <td>NaN</td>\n",
              "      <td>NaN</td>\n",
              "      <td>NaN</td>\n",
              "    </tr>\n",
              "    <tr>\n",
              "      <th>3</th>\n",
              "      <td>AL011851</td>\n",
              "      <td>UNNAMED</td>\n",
              "      <td>18510625</td>\n",
              "      <td>1800</td>\n",
              "      <td>NaN</td>\n",
              "      <td>HU</td>\n",
              "      <td>28.1N</td>\n",
              "      <td>96.5W</td>\n",
              "      <td>80</td>\n",
              "      <td>NaN</td>\n",
              "      <td>NaN</td>\n",
              "      <td>NaN</td>\n",
              "      <td>NaN</td>\n",
              "      <td>NaN</td>\n",
              "      <td>NaN</td>\n",
              "      <td>NaN</td>\n",
              "      <td>NaN</td>\n",
              "      <td>NaN</td>\n",
              "      <td>NaN</td>\n",
              "      <td>NaN</td>\n",
              "      <td>NaN</td>\n",
              "      <td>NaN</td>\n",
              "    </tr>\n",
              "    <tr>\n",
              "      <th>4</th>\n",
              "      <td>AL011851</td>\n",
              "      <td>UNNAMED</td>\n",
              "      <td>18510625</td>\n",
              "      <td>2100</td>\n",
              "      <td>L</td>\n",
              "      <td>HU</td>\n",
              "      <td>28.2N</td>\n",
              "      <td>96.8W</td>\n",
              "      <td>80</td>\n",
              "      <td>NaN</td>\n",
              "      <td>NaN</td>\n",
              "      <td>NaN</td>\n",
              "      <td>NaN</td>\n",
              "      <td>NaN</td>\n",
              "      <td>NaN</td>\n",
              "      <td>NaN</td>\n",
              "      <td>NaN</td>\n",
              "      <td>NaN</td>\n",
              "      <td>NaN</td>\n",
              "      <td>NaN</td>\n",
              "      <td>NaN</td>\n",
              "      <td>NaN</td>\n",
              "    </tr>\n",
              "  </tbody>\n",
              "</table>\n",
              "</div>"
            ],
            "text/plain": [
              "         id                 name      date hours_minutes record_identifier  \\\n",
              "0  AL011851              UNNAMED  18510625          0000               NaN   \n",
              "1  AL011851              UNNAMED  18510625          0600               NaN   \n",
              "2  AL011851              UNNAMED  18510625          1200               NaN   \n",
              "3  AL011851              UNNAMED  18510625          1800               NaN   \n",
              "4  AL011851              UNNAMED  18510625          2100                 L   \n",
              "\n",
              "  status_of_system latitude longitude maximum_sustained_wind_knots  \\\n",
              "0               HU    28.0N     94.8W                           80   \n",
              "1               HU    28.0N     95.4W                           80   \n",
              "2               HU    28.0N     96.0W                           80   \n",
              "3               HU    28.1N     96.5W                           80   \n",
              "4               HU    28.2N     96.8W                           80   \n",
              "\n",
              "  maximum_pressure 34_kt_ne 34_kt_se 34_kt_sw 34_kt_nw 50_kt_ne 50_kt_se  \\\n",
              "0              NaN      NaN      NaN      NaN      NaN      NaN      NaN   \n",
              "1              NaN      NaN      NaN      NaN      NaN      NaN      NaN   \n",
              "2              NaN      NaN      NaN      NaN      NaN      NaN      NaN   \n",
              "3              NaN      NaN      NaN      NaN      NaN      NaN      NaN   \n",
              "4              NaN      NaN      NaN      NaN      NaN      NaN      NaN   \n",
              "\n",
              "  50_kt_sw 50_kt_nw 64_kt_ne 64_kt_se 64_kt_sw 64_kt_nw  \n",
              "0      NaN      NaN      NaN      NaN      NaN      NaN  \n",
              "1      NaN      NaN      NaN      NaN      NaN      NaN  \n",
              "2      NaN      NaN      NaN      NaN      NaN      NaN  \n",
              "3      NaN      NaN      NaN      NaN      NaN      NaN  \n",
              "4      NaN      NaN      NaN      NaN      NaN      NaN  "
            ]
          },
          "execution_count": 30,
          "metadata": {},
          "output_type": "execute_result"
        }
      ],
      "source": [
        "atlantic_storms.head()"
      ]
    },
    {
      "cell_type": "markdown",
      "metadata": {
        "id": "Km65KWBH-To-"
      },
      "source": [
        "## Datafying columns\n",
        "\n",
        "Some of the columns could be better formatted.\n",
        "\n",
        "To start with, the latitude and longitude include `N` and `W` indicators, which we don't really want. We can just use negatives to indicate `S` and `W` (we'll upconvert dtype later)."
      ]
    },
    {
      "cell_type": "code",
      "execution_count": null,
      "metadata": {
        "id": "nqMGG5u_-To-"
      },
      "outputs": [],
      "source": [
        "atlantic_storms['latitude'] = atlantic_storms['latitude'].map(lambda lat: lat[:-1] if lat[-1] == \"N\" else -lat[:-1])\n",
        "atlantic_storms['longitude']= atlantic_storms['longitude'].map(lambda long: long[:-1] if long[-1] == \"E\" else \"-\" + long[:-1])"
      ]
    },
    {
      "cell_type": "code",
      "execution_count": null,
      "metadata": {
        "id": "n6jnYOaQ-To-",
        "outputId": "35de4a56-8b2d-4261-84d7-f0bdaf4d6242"
      },
      "outputs": [
        {
          "data": {
            "text/html": [
              "<div>\n",
              "<table border=\"1\" class=\"dataframe\">\n",
              "  <thead>\n",
              "    <tr style=\"text-align: right;\">\n",
              "      <th></th>\n",
              "      <th>id</th>\n",
              "      <th>name</th>\n",
              "      <th>date</th>\n",
              "      <th>hours_minutes</th>\n",
              "      <th>record_identifier</th>\n",
              "      <th>status_of_system</th>\n",
              "      <th>latitude</th>\n",
              "      <th>longitude</th>\n",
              "      <th>maximum_sustained_wind_knots</th>\n",
              "      <th>maximum_pressure</th>\n",
              "      <th>34_kt_ne</th>\n",
              "      <th>34_kt_se</th>\n",
              "      <th>34_kt_sw</th>\n",
              "      <th>34_kt_nw</th>\n",
              "      <th>50_kt_ne</th>\n",
              "      <th>50_kt_se</th>\n",
              "      <th>50_kt_sw</th>\n",
              "      <th>50_kt_nw</th>\n",
              "      <th>64_kt_ne</th>\n",
              "      <th>64_kt_se</th>\n",
              "      <th>64_kt_sw</th>\n",
              "      <th>64_kt_nw</th>\n",
              "    </tr>\n",
              "  </thead>\n",
              "  <tbody>\n",
              "    <tr>\n",
              "      <th>0</th>\n",
              "      <td>AL011851</td>\n",
              "      <td>UNNAMED</td>\n",
              "      <td>18510625</td>\n",
              "      <td>0000</td>\n",
              "      <td>NaN</td>\n",
              "      <td>HU</td>\n",
              "      <td>28.0</td>\n",
              "      <td>-94.8</td>\n",
              "      <td>80</td>\n",
              "      <td>NaN</td>\n",
              "      <td>NaN</td>\n",
              "      <td>NaN</td>\n",
              "      <td>NaN</td>\n",
              "      <td>NaN</td>\n",
              "      <td>NaN</td>\n",
              "      <td>NaN</td>\n",
              "      <td>NaN</td>\n",
              "      <td>NaN</td>\n",
              "      <td>NaN</td>\n",
              "      <td>NaN</td>\n",
              "      <td>NaN</td>\n",
              "      <td>NaN</td>\n",
              "    </tr>\n",
              "    <tr>\n",
              "      <th>1</th>\n",
              "      <td>AL011851</td>\n",
              "      <td>UNNAMED</td>\n",
              "      <td>18510625</td>\n",
              "      <td>0600</td>\n",
              "      <td>NaN</td>\n",
              "      <td>HU</td>\n",
              "      <td>28.0</td>\n",
              "      <td>-95.4</td>\n",
              "      <td>80</td>\n",
              "      <td>NaN</td>\n",
              "      <td>NaN</td>\n",
              "      <td>NaN</td>\n",
              "      <td>NaN</td>\n",
              "      <td>NaN</td>\n",
              "      <td>NaN</td>\n",
              "      <td>NaN</td>\n",
              "      <td>NaN</td>\n",
              "      <td>NaN</td>\n",
              "      <td>NaN</td>\n",
              "      <td>NaN</td>\n",
              "      <td>NaN</td>\n",
              "      <td>NaN</td>\n",
              "    </tr>\n",
              "    <tr>\n",
              "      <th>2</th>\n",
              "      <td>AL011851</td>\n",
              "      <td>UNNAMED</td>\n",
              "      <td>18510625</td>\n",
              "      <td>1200</td>\n",
              "      <td>NaN</td>\n",
              "      <td>HU</td>\n",
              "      <td>28.0</td>\n",
              "      <td>-96.0</td>\n",
              "      <td>80</td>\n",
              "      <td>NaN</td>\n",
              "      <td>NaN</td>\n",
              "      <td>NaN</td>\n",
              "      <td>NaN</td>\n",
              "      <td>NaN</td>\n",
              "      <td>NaN</td>\n",
              "      <td>NaN</td>\n",
              "      <td>NaN</td>\n",
              "      <td>NaN</td>\n",
              "      <td>NaN</td>\n",
              "      <td>NaN</td>\n",
              "      <td>NaN</td>\n",
              "      <td>NaN</td>\n",
              "    </tr>\n",
              "    <tr>\n",
              "      <th>3</th>\n",
              "      <td>AL011851</td>\n",
              "      <td>UNNAMED</td>\n",
              "      <td>18510625</td>\n",
              "      <td>1800</td>\n",
              "      <td>NaN</td>\n",
              "      <td>HU</td>\n",
              "      <td>28.1</td>\n",
              "      <td>-96.5</td>\n",
              "      <td>80</td>\n",
              "      <td>NaN</td>\n",
              "      <td>NaN</td>\n",
              "      <td>NaN</td>\n",
              "      <td>NaN</td>\n",
              "      <td>NaN</td>\n",
              "      <td>NaN</td>\n",
              "      <td>NaN</td>\n",
              "      <td>NaN</td>\n",
              "      <td>NaN</td>\n",
              "      <td>NaN</td>\n",
              "      <td>NaN</td>\n",
              "      <td>NaN</td>\n",
              "      <td>NaN</td>\n",
              "    </tr>\n",
              "    <tr>\n",
              "      <th>4</th>\n",
              "      <td>AL011851</td>\n",
              "      <td>UNNAMED</td>\n",
              "      <td>18510625</td>\n",
              "      <td>2100</td>\n",
              "      <td>L</td>\n",
              "      <td>HU</td>\n",
              "      <td>28.2</td>\n",
              "      <td>-96.8</td>\n",
              "      <td>80</td>\n",
              "      <td>NaN</td>\n",
              "      <td>NaN</td>\n",
              "      <td>NaN</td>\n",
              "      <td>NaN</td>\n",
              "      <td>NaN</td>\n",
              "      <td>NaN</td>\n",
              "      <td>NaN</td>\n",
              "      <td>NaN</td>\n",
              "      <td>NaN</td>\n",
              "      <td>NaN</td>\n",
              "      <td>NaN</td>\n",
              "      <td>NaN</td>\n",
              "      <td>NaN</td>\n",
              "    </tr>\n",
              "  </tbody>\n",
              "</table>\n",
              "</div>"
            ],
            "text/plain": [
              "         id                 name      date hours_minutes record_identifier  \\\n",
              "0  AL011851              UNNAMED  18510625          0000               NaN   \n",
              "1  AL011851              UNNAMED  18510625          0600               NaN   \n",
              "2  AL011851              UNNAMED  18510625          1200               NaN   \n",
              "3  AL011851              UNNAMED  18510625          1800               NaN   \n",
              "4  AL011851              UNNAMED  18510625          2100                 L   \n",
              "\n",
              "  status_of_system latitude longitude maximum_sustained_wind_knots  \\\n",
              "0               HU     28.0     -94.8                           80   \n",
              "1               HU     28.0     -95.4                           80   \n",
              "2               HU     28.0     -96.0                           80   \n",
              "3               HU     28.1     -96.5                           80   \n",
              "4               HU     28.2     -96.8                           80   \n",
              "\n",
              "  maximum_pressure 34_kt_ne 34_kt_se 34_kt_sw 34_kt_nw 50_kt_ne 50_kt_se  \\\n",
              "0              NaN      NaN      NaN      NaN      NaN      NaN      NaN   \n",
              "1              NaN      NaN      NaN      NaN      NaN      NaN      NaN   \n",
              "2              NaN      NaN      NaN      NaN      NaN      NaN      NaN   \n",
              "3              NaN      NaN      NaN      NaN      NaN      NaN      NaN   \n",
              "4              NaN      NaN      NaN      NaN      NaN      NaN      NaN   \n",
              "\n",
              "  50_kt_sw 50_kt_nw 64_kt_ne 64_kt_se 64_kt_sw 64_kt_nw  \n",
              "0      NaN      NaN      NaN      NaN      NaN      NaN  \n",
              "1      NaN      NaN      NaN      NaN      NaN      NaN  \n",
              "2      NaN      NaN      NaN      NaN      NaN      NaN  \n",
              "3      NaN      NaN      NaN      NaN      NaN      NaN  \n",
              "4      NaN      NaN      NaN      NaN      NaN      NaN  "
            ]
          },
          "execution_count": 32,
          "metadata": {},
          "output_type": "execute_result"
        }
      ],
      "source": [
        "atlantic_storms.head()"
      ]
    },
    {
      "cell_type": "markdown",
      "metadata": {
        "id": "dc04Smkc-To_"
      },
      "source": [
        "Next let's store the date in a more standard format. Output to ISO 8601 is automatically covered when we convert a column to `datetime` dtype."
      ]
    },
    {
      "cell_type": "code",
      "execution_count": null,
      "metadata": {
        "collapsed": true,
        "id": "PWTEIZ9E-To_"
      },
      "outputs": [],
      "source": [
        "atlantic_storms['date'] = pd.to_datetime(atlantic_storms['date'])"
      ]
    },
    {
      "cell_type": "code",
      "execution_count": null,
      "metadata": {
        "id": "rln3X9Qq-To_"
      },
      "outputs": [],
      "source": [
        "atlantic_storms['date'] = atlantic_storms\\\n",
        "    .apply(\n",
        "        lambda srs: srs['date'].replace(hour=int(srs['hours_minutes'][:2]), minute=int(srs['hours_minutes'][2:])),\n",
        "        axis='columns'\n",
        "    )"
      ]
    },
    {
      "cell_type": "code",
      "execution_count": null,
      "metadata": {
        "collapsed": true,
        "id": "nQeu64gO-To_"
      },
      "outputs": [],
      "source": [
        "del atlantic_storms['hours_minutes']"
      ]
    },
    {
      "cell_type": "code",
      "execution_count": null,
      "metadata": {
        "id": "YF_qITzb-To_",
        "outputId": "04e38d3c-3924-482a-bab1-9f64de4b0fbf"
      },
      "outputs": [
        {
          "data": {
            "text/html": [
              "<div>\n",
              "<table border=\"1\" class=\"dataframe\">\n",
              "  <thead>\n",
              "    <tr style=\"text-align: right;\">\n",
              "      <th></th>\n",
              "      <th>id</th>\n",
              "      <th>name</th>\n",
              "      <th>date</th>\n",
              "      <th>record_identifier</th>\n",
              "      <th>status_of_system</th>\n",
              "      <th>latitude</th>\n",
              "      <th>longitude</th>\n",
              "      <th>maximum_sustained_wind_knots</th>\n",
              "      <th>maximum_pressure</th>\n",
              "      <th>34_kt_ne</th>\n",
              "      <th>34_kt_se</th>\n",
              "      <th>34_kt_sw</th>\n",
              "      <th>34_kt_nw</th>\n",
              "      <th>50_kt_ne</th>\n",
              "      <th>50_kt_se</th>\n",
              "      <th>50_kt_sw</th>\n",
              "      <th>50_kt_nw</th>\n",
              "      <th>64_kt_ne</th>\n",
              "      <th>64_kt_se</th>\n",
              "      <th>64_kt_sw</th>\n",
              "      <th>64_kt_nw</th>\n",
              "    </tr>\n",
              "  </thead>\n",
              "  <tbody>\n",
              "    <tr>\n",
              "      <th>0</th>\n",
              "      <td>AL011851</td>\n",
              "      <td>UNNAMED</td>\n",
              "      <td>1851-06-25 00:00:00</td>\n",
              "      <td>NaN</td>\n",
              "      <td>HU</td>\n",
              "      <td>28.0</td>\n",
              "      <td>-94.8</td>\n",
              "      <td>80</td>\n",
              "      <td>NaN</td>\n",
              "      <td>NaN</td>\n",
              "      <td>NaN</td>\n",
              "      <td>NaN</td>\n",
              "      <td>NaN</td>\n",
              "      <td>NaN</td>\n",
              "      <td>NaN</td>\n",
              "      <td>NaN</td>\n",
              "      <td>NaN</td>\n",
              "      <td>NaN</td>\n",
              "      <td>NaN</td>\n",
              "      <td>NaN</td>\n",
              "      <td>NaN</td>\n",
              "    </tr>\n",
              "    <tr>\n",
              "      <th>1</th>\n",
              "      <td>AL011851</td>\n",
              "      <td>UNNAMED</td>\n",
              "      <td>1851-06-25 06:00:00</td>\n",
              "      <td>NaN</td>\n",
              "      <td>HU</td>\n",
              "      <td>28.0</td>\n",
              "      <td>-95.4</td>\n",
              "      <td>80</td>\n",
              "      <td>NaN</td>\n",
              "      <td>NaN</td>\n",
              "      <td>NaN</td>\n",
              "      <td>NaN</td>\n",
              "      <td>NaN</td>\n",
              "      <td>NaN</td>\n",
              "      <td>NaN</td>\n",
              "      <td>NaN</td>\n",
              "      <td>NaN</td>\n",
              "      <td>NaN</td>\n",
              "      <td>NaN</td>\n",
              "      <td>NaN</td>\n",
              "      <td>NaN</td>\n",
              "    </tr>\n",
              "    <tr>\n",
              "      <th>2</th>\n",
              "      <td>AL011851</td>\n",
              "      <td>UNNAMED</td>\n",
              "      <td>1851-06-25 12:00:00</td>\n",
              "      <td>NaN</td>\n",
              "      <td>HU</td>\n",
              "      <td>28.0</td>\n",
              "      <td>-96.0</td>\n",
              "      <td>80</td>\n",
              "      <td>NaN</td>\n",
              "      <td>NaN</td>\n",
              "      <td>NaN</td>\n",
              "      <td>NaN</td>\n",
              "      <td>NaN</td>\n",
              "      <td>NaN</td>\n",
              "      <td>NaN</td>\n",
              "      <td>NaN</td>\n",
              "      <td>NaN</td>\n",
              "      <td>NaN</td>\n",
              "      <td>NaN</td>\n",
              "      <td>NaN</td>\n",
              "      <td>NaN</td>\n",
              "    </tr>\n",
              "    <tr>\n",
              "      <th>3</th>\n",
              "      <td>AL011851</td>\n",
              "      <td>UNNAMED</td>\n",
              "      <td>1851-06-25 18:00:00</td>\n",
              "      <td>NaN</td>\n",
              "      <td>HU</td>\n",
              "      <td>28.1</td>\n",
              "      <td>-96.5</td>\n",
              "      <td>80</td>\n",
              "      <td>NaN</td>\n",
              "      <td>NaN</td>\n",
              "      <td>NaN</td>\n",
              "      <td>NaN</td>\n",
              "      <td>NaN</td>\n",
              "      <td>NaN</td>\n",
              "      <td>NaN</td>\n",
              "      <td>NaN</td>\n",
              "      <td>NaN</td>\n",
              "      <td>NaN</td>\n",
              "      <td>NaN</td>\n",
              "      <td>NaN</td>\n",
              "      <td>NaN</td>\n",
              "    </tr>\n",
              "    <tr>\n",
              "      <th>4</th>\n",
              "      <td>AL011851</td>\n",
              "      <td>UNNAMED</td>\n",
              "      <td>1851-06-25 21:00:00</td>\n",
              "      <td>L</td>\n",
              "      <td>HU</td>\n",
              "      <td>28.2</td>\n",
              "      <td>-96.8</td>\n",
              "      <td>80</td>\n",
              "      <td>NaN</td>\n",
              "      <td>NaN</td>\n",
              "      <td>NaN</td>\n",
              "      <td>NaN</td>\n",
              "      <td>NaN</td>\n",
              "      <td>NaN</td>\n",
              "      <td>NaN</td>\n",
              "      <td>NaN</td>\n",
              "      <td>NaN</td>\n",
              "      <td>NaN</td>\n",
              "      <td>NaN</td>\n",
              "      <td>NaN</td>\n",
              "      <td>NaN</td>\n",
              "    </tr>\n",
              "  </tbody>\n",
              "</table>\n",
              "</div>"
            ],
            "text/plain": [
              "         id                 name                date record_identifier  \\\n",
              "0  AL011851              UNNAMED 1851-06-25 00:00:00               NaN   \n",
              "1  AL011851              UNNAMED 1851-06-25 06:00:00               NaN   \n",
              "2  AL011851              UNNAMED 1851-06-25 12:00:00               NaN   \n",
              "3  AL011851              UNNAMED 1851-06-25 18:00:00               NaN   \n",
              "4  AL011851              UNNAMED 1851-06-25 21:00:00                 L   \n",
              "\n",
              "  status_of_system latitude longitude maximum_sustained_wind_knots  \\\n",
              "0               HU     28.0     -94.8                           80   \n",
              "1               HU     28.0     -95.4                           80   \n",
              "2               HU     28.0     -96.0                           80   \n",
              "3               HU     28.1     -96.5                           80   \n",
              "4               HU     28.2     -96.8                           80   \n",
              "\n",
              "  maximum_pressure 34_kt_ne 34_kt_se 34_kt_sw 34_kt_nw 50_kt_ne 50_kt_se  \\\n",
              "0              NaN      NaN      NaN      NaN      NaN      NaN      NaN   \n",
              "1              NaN      NaN      NaN      NaN      NaN      NaN      NaN   \n",
              "2              NaN      NaN      NaN      NaN      NaN      NaN      NaN   \n",
              "3              NaN      NaN      NaN      NaN      NaN      NaN      NaN   \n",
              "4              NaN      NaN      NaN      NaN      NaN      NaN      NaN   \n",
              "\n",
              "  50_kt_sw 50_kt_nw 64_kt_ne 64_kt_se 64_kt_sw 64_kt_nw  \n",
              "0      NaN      NaN      NaN      NaN      NaN      NaN  \n",
              "1      NaN      NaN      NaN      NaN      NaN      NaN  \n",
              "2      NaN      NaN      NaN      NaN      NaN      NaN  \n",
              "3      NaN      NaN      NaN      NaN      NaN      NaN  \n",
              "4      NaN      NaN      NaN      NaN      NaN      NaN  "
            ]
          },
          "execution_count": 36,
          "metadata": {},
          "output_type": "execute_result"
        }
      ],
      "source": [
        "atlantic_storms.head()"
      ]
    },
    {
      "cell_type": "markdown",
      "metadata": {
        "id": "mNcDmhzl-To_"
      },
      "source": [
        "## Final fixes"
      ]
    },
    {
      "cell_type": "markdown",
      "metadata": {
        "id": "ClIkfnjn-To_"
      },
      "source": [
        "These were detecting by inspecting saves.\n",
        "\n",
        "Fix an issue with character stripping in the names:"
      ]
    },
    {
      "cell_type": "code",
      "execution_count": null,
      "metadata": {
        "id": "REM3ADh6-To_",
        "outputId": "f9e5c928-4ad4-46f8-d225-6bbe45974c28"
      },
      "outputs": [
        {
          "data": {
            "text/plain": [
              "'            UNNAMED'"
            ]
          },
          "execution_count": 37,
          "metadata": {},
          "output_type": "execute_result"
        }
      ],
      "source": [
        "atlantic_storms['name'].iloc[0]"
      ]
    },
    {
      "cell_type": "code",
      "execution_count": null,
      "metadata": {
        "collapsed": true,
        "id": "H05BlIO7-To_"
      },
      "outputs": [],
      "source": [
        "atlantic_storms['name'] = atlantic_storms['name'].map(lambda n: n.strip())"
      ]
    },
    {
      "cell_type": "code",
      "execution_count": null,
      "metadata": {
        "id": "JODtGHxU-To_",
        "outputId": "a24ad382-4af7-4195-de3f-f62a1f9854f4"
      },
      "outputs": [
        {
          "data": {
            "text/plain": [
              "'UNNAMED'"
            ]
          },
          "execution_count": 39,
          "metadata": {},
          "output_type": "execute_result"
        }
      ],
      "source": [
        "atlantic_storms['name'].iloc[0]"
      ]
    },
    {
      "cell_type": "markdown",
      "metadata": {
        "id": "suI5I3cg-To_"
      },
      "source": [
        "Reindex, and attach a name to the index:"
      ]
    },
    {
      "cell_type": "code",
      "execution_count": null,
      "metadata": {
        "collapsed": true,
        "id": "lcR3Cvxc-To_"
      },
      "outputs": [],
      "source": [
        "atlantic_storms.index = range(len(atlantic_storms.index))\n",
        "atlantic_storms.index.name = \"index\""
      ]
    },
    {
      "cell_type": "markdown",
      "metadata": {
        "id": "a5VeJMyT-To_"
      },
      "source": [
        "The data is printable as is."
      ]
    },
    {
      "cell_type": "code",
      "execution_count": null,
      "metadata": {
        "collapsed": true,
        "id": "3tfT7R5B-TpA"
      },
      "outputs": [],
      "source": [
        "atlantic_storms.to_csv(\"../data/atlantic_storms.csv\", encoding='utf-8')"
      ]
    }
  ],
  "metadata": {
    "kernelspec": {
      "display_name": "Python 3",
      "language": "python",
      "name": "python3"
    },
    "language_info": {
      "codemirror_mode": {
        "name": "ipython",
        "version": 3
      },
      "file_extension": ".py",
      "mimetype": "text/x-python",
      "name": "python",
      "nbconvert_exporter": "python",
      "pygments_lexer": "ipython3",
      "version": "3.5.2"
    },
    "colab": {
      "provenance": []
    }
  },
  "nbformat": 4,
  "nbformat_minor": 0
}